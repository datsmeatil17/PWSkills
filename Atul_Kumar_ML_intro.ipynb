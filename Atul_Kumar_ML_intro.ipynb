{
  "nbformat": 4,
  "nbformat_minor": 0,
  "metadata": {
    "colab": {
      "provenance": []
    },
    "kernelspec": {
      "name": "python3",
      "display_name": "Python 3"
    },
    "language_info": {
      "name": "python"
    }
  },
  "cells": [
    {
      "cell_type": "code",
      "execution_count": 2,
      "metadata": {
        "colab": {
          "base_uri": "https://localhost:8080/",
          "height": 127
        },
        "id": "-QWDtUYDR4Y_",
        "outputId": "ba04759d-0a8b-46f6-a443-f6b1be9e8747"
      },
      "outputs": [
        {
          "output_type": "execute_result",
          "data": {
            "text/plain": [
              "' Question 1.Explain the differences between AI, ML, Deep Learning (DL), and Data \\nScience (DS). \\n\\nArtificial\\u202fIntelligence (AI) is the broad discipline focused on creating machines capable of tasks that typically require human intelligence, like reasoning or decision-making. Machine Learning (ML), a subset of AI, develops algorithms that learn and improve from data without explicit programming. Deep Learning (DL) is a specialized subset of ML that uses multi‑layered neural networks to automatically learn complex features from vast, often unstructured data. Data Science (DS) is a multidisciplinary field combining statistics, programming, domain knowledge, and ML (including DL) to collect, clean, analyze, and visualize data—transforming raw data into actionable insights\\n\\nQuestion 2: What are the types of machine learning? Describe each with one real-world example.\\n\\nSupervised Learning relies on labeled data to learn input-output mappings—tasks like classification or regression. Example: Email spam filters classify incoming messages as Spam or Not Spam using labeled emails. \\n\\nUnsupervised Learning works with unlabeled data, uncovering hidden patterns or groupings. Example: E‑commerce platforms use customer segmentation, grouping shoppers by purchase behavior without predefined labels. \\n\\nReinforcement Learning involves an agent learning via trial and error—receiving rewards or penalties to optimize behavior. Example: Self‑driving cars learn safe driving by getting rewards for correct lane keeping and penalties for unsafe actions.\\n\\nQuestion 3: Define overfitting, underfitting, and the bias-variance tradeoff in machine \\nlearning. \\n\\nOverfitting occurs when a model learns training data—including noise and outliers—too precisely, resulting in great performance on that data but poor generalization to new, unseen data \\n\\nUnderfitting happens when a model is overly simplistic, failing to capture underlying patterns in the data; it yields high error on both training and test sets\\n\\nThe bias‑variance trade‑off highlights the balance between bias (error from overly simple assumptions) and variance (error from excessive sensitivity to training data). As model complexity increases, bias tends to decrease while variance increases—and vice versa\\n\\nQuestion 4: What are outliers in a dataset, and list three common techniques for \\nhandling them.\\n\\nOutliers are data points that deviate significantly from most observations—often due to measurement errors, rare events, or anomalies—which can skew analyses or models. Common techniques to handle outliers include:\\n\\nRemoval (Trimming) – Delete extreme values when they’re clearly erroneous or irrelevant. \\n\\nWinsorizing (Capping) – Replace outliers with the nearest non-outlier value (e.g., 5th or 95th percentile) to retain data while limiting impact. \\n\\nImputation or Transformation – Substitute outliers with mean/median estimates or apply transformations (like log) to reduce their influence.\\n\\nQuestion 5: Explain the process of handling missing values and mention one \\nimputation technique for numerical and one for categorical data.\\n\\nHandling missing values involves:\\n\\nIdentification & assessment: Detect missing entries and understand why data is missing (e.g., MCAR, MAR, MNAR) to choose the right approach. \\n\\nTreatment strategy: Options include removing rows, flagging missingness, or imputing values to preserve dataset size. \\n\\nA commonly used imputation method:\\n\\nFor numerical data, replace missing values with the mean (if data is symmetric) or the median (if skewed or with outliers). \\n\\nFor categorical data, use mode imputation—i.e., the most frequent category—to fill in missing entries.\\n\\n'"
            ],
            "application/vnd.google.colaboratory.intrinsic+json": {
              "type": "string"
            }
          },
          "metadata": {},
          "execution_count": 2
        }
      ],
      "source": [
        "''' Question 1.Explain the differences between AI, ML, Deep Learning (DL), and Data\n",
        "Science (DS).\n",
        "\n",
        "Artificial Intelligence (AI) is the broad discipline focused on creating machines capable of tasks that typically require human intelligence, like reasoning or decision-making. Machine Learning (ML), a subset of AI, develops algorithms that learn and improve from data without explicit programming. Deep Learning (DL) is a specialized subset of ML that uses multi‑layered neural networks to automatically learn complex features from vast, often unstructured data. Data Science (DS) is a multidisciplinary field combining statistics, programming, domain knowledge, and ML (including DL) to collect, clean, analyze, and visualize data—transforming raw data into actionable insights\n",
        "\n",
        "Question 2: What are the types of machine learning? Describe each with one real-world example.\n",
        "\n",
        "Supervised Learning relies on labeled data to learn input-output mappings—tasks like classification or regression. Example: Email spam filters classify incoming messages as Spam or Not Spam using labeled emails.\n",
        "\n",
        "Unsupervised Learning works with unlabeled data, uncovering hidden patterns or groupings. Example: E‑commerce platforms use customer segmentation, grouping shoppers by purchase behavior without predefined labels.\n",
        "\n",
        "Reinforcement Learning involves an agent learning via trial and error—receiving rewards or penalties to optimize behavior. Example: Self‑driving cars learn safe driving by getting rewards for correct lane keeping and penalties for unsafe actions.\n",
        "\n",
        "Question 3: Define overfitting, underfitting, and the bias-variance tradeoff in machine\n",
        "learning.\n",
        "\n",
        "Overfitting occurs when a model learns training data—including noise and outliers—too precisely, resulting in great performance on that data but poor generalization to new, unseen data\n",
        "\n",
        "Underfitting happens when a model is overly simplistic, failing to capture underlying patterns in the data; it yields high error on both training and test sets\n",
        "\n",
        "The bias‑variance trade‑off highlights the balance between bias (error from overly simple assumptions) and variance (error from excessive sensitivity to training data). As model complexity increases, bias tends to decrease while variance increases—and vice versa\n",
        "\n",
        "Question 4: What are outliers in a dataset, and list three common techniques for\n",
        "handling them.\n",
        "\n",
        "Outliers are data points that deviate significantly from most observations—often due to measurement errors, rare events, or anomalies—which can skew analyses or models. Common techniques to handle outliers include:\n",
        "\n",
        "Removal (Trimming) – Delete extreme values when they’re clearly erroneous or irrelevant.\n",
        "\n",
        "Winsorizing (Capping) – Replace outliers with the nearest non-outlier value (e.g., 5th or 95th percentile) to retain data while limiting impact.\n",
        "\n",
        "Imputation or Transformation – Substitute outliers with mean/median estimates or apply transformations (like log) to reduce their influence.\n",
        "\n",
        "Question 5: Explain the process of handling missing values and mention one\n",
        "imputation technique for numerical and one for categorical data.\n",
        "\n",
        "Handling missing values involves:\n",
        "\n",
        "Identification & assessment: Detect missing entries and understand why data is missing (e.g., MCAR, MAR, MNAR) to choose the right approach.\n",
        "\n",
        "Treatment strategy: Options include removing rows, flagging missingness, or imputing values to preserve dataset size.\n",
        "\n",
        "A commonly used imputation method:\n",
        "\n",
        "For numerical data, replace missing values with the mean (if data is symmetric) or the median (if skewed or with outliers).\n",
        "\n",
        "For categorical data, use mode imputation—i.e., the most frequent category—to fill in missing entries.\n",
        "\n",
        "'''\n",
        "\n"
      ]
    },
    {
      "cell_type": "code",
      "source": [
        "#Question 6: Write a Python program that:\n",
        "#● Creates a synthetic imbalanced dataset with make_classification() from\n",
        "#sklearn.datasets.\n",
        "#● Prints the class distribution.\n",
        "\n",
        "from sklearn.datasets import make_classification\n",
        "from collections import Counter\n",
        "\n",
        "# Generate an imbalanced dataset: 1,000 samples, 2 classes, with a 90% vs 10% split\n",
        "X, y = make_classification(\n",
        "    n_samples=1000,\n",
        "    n_features=20,\n",
        "    n_informative=2,\n",
        "    n_redundant=2,\n",
        "    n_clusters_per_class=1,\n",
        "    weights=[0.9, 0.1],   # Heavy class imbalance: class 0 is ~90%, class 1 is ~10%\n",
        "    flip_y=0,\n",
        "    random_state=42\n",
        ")\n",
        "\n",
        "# Display class distribution\n",
        "class_counts = Counter(y)\n",
        "print(\"Class distribution:\", class_counts)\n"
      ],
      "metadata": {
        "colab": {
          "base_uri": "https://localhost:8080/"
        },
        "id": "XUggGscxfp56",
        "outputId": "f3617473-d85c-4816-8ec8-a5da569f4ff8"
      },
      "execution_count": 4,
      "outputs": [
        {
          "output_type": "stream",
          "name": "stdout",
          "text": [
            "Class distribution: Counter({np.int64(0): 900, np.int64(1): 100})\n"
          ]
        }
      ]
    },
    {
      "cell_type": "code",
      "source": [
        "#Question 7: Implement one-hot encoding using pandas for the following list of colors:\n",
        "#['Red', 'Green', 'Blue', 'Green', 'Red']. Print the resulting dataframe.\n",
        "\n",
        "import pandas as pd\n",
        "\n",
        "colors = ['Red', 'Green', 'Blue', 'Green', 'Red']\n",
        "df = pd.DataFrame({'Color': colors})\n",
        "\n",
        "df_encoded = pd.get_dummies(df['Color'], dtype=int)\n",
        "\n",
        "df_encoded.index = colors\n",
        "\n",
        "print(df_encoded)\n"
      ],
      "metadata": {
        "colab": {
          "base_uri": "https://localhost:8080/"
        },
        "id": "Luo3ouAXgGTT",
        "outputId": "792babeb-beda-43f7-f332-e76723f088b4"
      },
      "execution_count": 12,
      "outputs": [
        {
          "output_type": "stream",
          "name": "stdout",
          "text": [
            "       Blue  Green  Red\n",
            "Red       0      0    1\n",
            "Green     0      1    0\n",
            "Blue      1      0    0\n",
            "Green     0      1    0\n",
            "Red       0      0    1\n"
          ]
        }
      ]
    },
    {
      "cell_type": "code",
      "source": [
        "#Question 8: Write a Python script to: ● Generate 1000 samples from a normal distribution. ● Introduce 50 random missing values. ● Fill missing values with the column mean. ● Plot a histogram before and after imputation.\n",
        "\n",
        "\n",
        "\n",
        "import numpy as np\n",
        "import pandas as pd\n",
        "import matplotlib.pyplot as plt\n",
        "\n",
        "# Step 1: Generate 1000 samples from a normal distribution\n",
        "np.random.seed(42)\n",
        "data = np.random.normal(loc=50, scale=10, size=1000)\n",
        "\n",
        "# Step 2: Introduce 50 random missing values\n",
        "missing_indices = np.random.choice(range(1000), size=50, replace=False)\n",
        "data[missing_indices] = np.nan\n",
        "\n",
        "# Step 3: Create a DataFrame\n",
        "df = pd.DataFrame({'Value': data})\n",
        "\n",
        "# Step 4: Plot histogram before imputation\n",
        "plt.figure(figsize=(12, 6))\n",
        "plt.subplot(1, 2, 1)\n",
        "plt.hist(df['Value'].dropna(), bins=30, color='skyblue', edgecolor='black')\n",
        "plt.title('Before Imputation')\n",
        "plt.xlabel('Value')\n",
        "plt.ylabel('Frequency')\n",
        "\n",
        "# Step 5: Impute missing values with the column mean\n",
        "mean_value = df['Value'].mean()\n",
        "df['Value'].fillna(mean_value, inplace=True)\n",
        "\n",
        "# Step 6: Plot histogram after imputation\n",
        "plt.subplot(1, 2, 2)\n",
        "plt.hist(df['Value'], bins=30, color='salmon', edgecolor='black')\n",
        "plt.title('After Imputation')\n",
        "plt.xlabel('Value')\n",
        "plt.ylabel('Frequency')\n",
        "\n",
        "plt.tight_layout()\n",
        "plt.show()"
      ],
      "metadata": {
        "colab": {
          "base_uri": "https://localhost:8080/",
          "height": 754
        },
        "id": "IaYzH6mOhhkv",
        "outputId": "032f580f-7f7b-47d2-edad-7c62e2283807"
      },
      "execution_count": 14,
      "outputs": [
        {
          "output_type": "stream",
          "name": "stderr",
          "text": [
            "/tmp/ipython-input-2516914595.py:30: FutureWarning: A value is trying to be set on a copy of a DataFrame or Series through chained assignment using an inplace method.\n",
            "The behavior will change in pandas 3.0. This inplace method will never work because the intermediate object on which we are setting values always behaves as a copy.\n",
            "\n",
            "For example, when doing 'df[col].method(value, inplace=True)', try using 'df.method({col: value}, inplace=True)' or df[col] = df[col].method(value) instead, to perform the operation inplace on the original object.\n",
            "\n",
            "\n",
            "  df['Value'].fillna(mean_value, inplace=True)\n"
          ]
        },
        {
          "output_type": "display_data",
          "data": {
            "text/plain": [
              "<Figure size 1200x600 with 2 Axes>"
            ],
            "image/png": "[encoded data removed]"
          },
          "metadata": {}
        }
      ]
    },
    {
      "cell_type": "code",
      "source": [
        "#Question 9: Implement Min-Max scaling on the following list of numbers [2, 5, 10, 15,\n",
        "#20] using sklearn.preprocessing.MinMaxScaler. Print the scaled array.\n",
        "\n",
        "\n",
        "from sklearn.preprocessing import MinMaxScaler\n",
        "import numpy as np\n",
        "\n",
        "# Original data\n",
        "data = np.array([[2], [5], [10], [15], [20]])\n",
        "\n",
        "# Initialize the MinMaxScaler\n",
        "scaler = MinMaxScaler()\n",
        "\n",
        "# Fit and transform the data\n",
        "scaled_data = scaler.fit_transform(data)\n",
        "\n",
        "# Print the scaled array\n",
        "print(\"Scaled Data:\")\n",
        "print(scaled_data)"
      ],
      "metadata": {
        "colab": {
          "base_uri": "https://localhost:8080/"
        },
        "id": "NXFw8Uwsig4v",
        "outputId": "9b5cb49c-b064-4238-fd49-70365c47341c"
      },
      "execution_count": 15,
      "outputs": [
        {
          "output_type": "stream",
          "name": "stdout",
          "text": [
            "Scaled Data:\n",
            "[[0.        ]\n",
            " [0.16666667]\n",
            " [0.44444444]\n",
            " [0.72222222]\n",
            " [1.        ]]\n"
          ]
        }
      ]
    },
    {
      "cell_type": "code",
      "source": [
        "'''Question 10: You are working as a data scientist for a retail company. You receive a customer\n",
        "transaction dataset that contains:\n",
        "● Missing ages,\n",
        "● Outliers in transaction amount,\n",
        "● A highly imbalanced target (fraud vs. non-fraud),\n",
        "● Categorical variables like payment method.\n",
        "Explain the step-by-step data preparation plan you’d follow before training a machine learning\n",
        "model. Include how you’d address missing data, outliers, imbalance, and encoding.\n",
        "'''\n",
        "'''\n",
        "When preparing a customer transaction dataset for machine learning, especially in a retail fraud detection context, it's crucial to address missing values, outliers, class imbalance, and categorical variables systematically. Here's a step-by-step data preparation plan:\n",
        "\n",
        "1. Handle Missing Values\n",
        "\n",
        "Identify Missing Data: Use .isnull().sum() to detect missing entries.\n",
        "\n",
        "Impute Numerical Features: For columns like age, impute missing values with the median to mitigate the influence of outliers.\n",
        "\n",
        "Impute Categorical Features: For columns like payment_method, impute missing values with the mode (most frequent category).\n",
        "\n",
        "Consider Column Removal: If a column has a high percentage of missing values (e.g., more than 50%), assess its importance and consider removing it to prevent introducing noise.\n",
        "\n",
        "2. Detect and Handle Outliers\n",
        "\n",
        "Identify Outliers: Use the Interquartile Range (IQR) method to detect outliers. Calculate Q1 (25th percentile) and Q3 (75th percentile), then compute IQR = Q3 - Q1. Outliers are typically defined as values outside the range [Q1 - 1.5 * IQR, Q3 + 1.5 * IQR].\n",
        "\n",
        "Address Outliers:\n",
        "\n",
        "Capping: Limit extreme values to a specified range. For instance, if a transaction amount exceeds a certain threshold, cap it at that threshold.\n",
        "\n",
        "Transformation: Apply transformations like logarithmic or square root to reduce the impact of extreme values.\n",
        "\n",
        "Removal: If outliers are due to data entry errors, consider removing them.\n",
        "\n",
        "3. Address Class Imbalance\n",
        "\n",
        "Resampling Techniques:\n",
        "\n",
        "Oversampling: Use techniques like SMOTE (Synthetic Minority Over-sampling Technique) to generate synthetic samples for the minority class (fraudulent transactions).\n",
        "\n",
        "Undersampling: Reduce the number of samples from the majority class (non-fraudulent transactions) to balance the dataset.\n",
        "\n",
        "Ensemble Methods: Consider using ensemble methods like Balanced Random Forests or EasyEnsemble that are designed to handle imbalanced datasets effectively.\n",
        "\n",
        "Evaluation Metrics: Focus on metrics like Precision, Recall, F1-Score, and the Area Under the Precision-Recall Curve (AUPRC), as accuracy can be misleading in imbalanced datasets.\n",
        "\n",
        "4. Encode Categorical Variables\n",
        "\n",
        "Nominal Variables (no inherent order):\n",
        "\n",
        "One-Hot Encoding: Convert categories into binary vectors. For example, payment_method with categories like credit_card, debit_card, cash would be transformed into separate columns for each category.\n",
        "\n",
        "Ordinal Variables (inherent order):\n",
        "\n",
        "Label Encoding: Assign integer values to categories based on their order. For instance, payment_method with categories cash, debit_card, credit_card might be encoded as 0, 1, 2, respectively.\n",
        "\n",
        "Avoid Dummy Variable Trap: When using one-hot encoding, drop one category to serve as the baseline and prevent multicollinearity.\n",
        "\n",
        "5. Feature Scaling\n",
        "\n",
        "Standardization: Apply StandardScaler to scale numerical features so they have a mean of 0 and a standard deviation of 1. This is essential for algorithms like Logistic Regression, SVMs, and KNN.\n",
        "\n",
        "Normalization: Use MinMaxScaler if you need to scale features to a specific range, typically [0, 1], especially for neural networks.\n",
        "\n",
        "6. Feature Engineering\n",
        "\n",
        "Create New Features: Derive new features that might be predictive, such as transaction_amount_per_item or time_since_last_purchase.\n",
        "\n",
        "Feature Selection: Use techniques like Correlation Matrix, Chi-Square Test, or Recursive Feature Elimination (RFE) to identify and retain the most relevant features.\n",
        "\n",
        "Handling Skewed Distributions: For features with skewed distributions, consider applying transformations like logarithmic or Box-Cox to normalize them.\n",
        "\n",
        "7. Split the Dataset\n",
        "\n",
        "Training and Testing Sets: Divide the dataset into training and testing sets, typically using an 80-20 or 70-30 split.\n",
        "\n",
        "Stratified Sampling: Ensure that both training and testing sets have a similar distribution of the target variable (fraud vs. non-fraud) to maintain consistency.\n",
        "\n",
        "'''"
      ],
      "metadata": {
        "id": "c2lgqQwAkFVp"
      },
      "execution_count": null,
      "outputs": []
    }
  ]
}