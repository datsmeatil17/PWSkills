{
  "nbformat": 4,
  "nbformat_minor": 0,
  "metadata": {
    "colab": {
      "provenance": []
    },
    "kernelspec": {
      "name": "python3",
      "display_name": "Python 3"
    },
    "language_info": {
      "name": "python"
    }
  },
  "cells": [
    {
      "cell_type": "code",
      "source": [
        "'''\n",
        "\n",
        "1.What is Python, and why is it popular\n",
        "> Python, developed by Guido van Rossum and released in 1991, is a high-level,\n",
        "interpreted programming language celebrated for its simplicity and readability.\n",
        "It supports multiple programming paradigms, including object-oriented,\n",
        "procedural, and functional programming, making it versatile for various\n",
        "applications. Python's extensive standard library and dynamic typing facilitate\n",
        "rapid development, while its cross-platform compatibility ensures broad\n",
        "usability. Its clean syntax and strong community support contribute to its\n",
        "widespread adoption across industries.\n",
        "\n",
        "2.What is an interpreter in Python\n",
        "> An interpreter is a program that executes source code directly, translating it\n",
        "into machine code line-by-line. Python is an interpreted language, meaning code\n",
        "is executed by the Python interpreter without the need for prior compilation.\n",
        "This allows for interactive coding and rapid testing .\n",
        "\n",
        "3.What are pre-defined keywords in Python\n",
        "> Python has 35 reserved keywords that cannot be used as identifiers\n",
        "(e.g., variable names). These keywords define the syntax and structure of the\n",
        "Python language. Examples include:\n",
        "4.Can keywords be used as variable names\n",
        ">No, Python keywords cannot be used as variable names. Attempting to do so will\n",
        "result in a syntax error.\n",
        "\n",
        "5.What is mutability in Python\n",
        "> In Python, mutability determines whether an object's state can be changed\n",
        "after its creation: mutable objects like lists, dictionaries, and sets allow\n",
        "modifications, while immutable objects such as strings, tuples, and integers\n",
        "cannot be altered once defined, impacting data integrity and performance.\n",
        "\n",
        "6.Why are lists mutable, but tuples are immutable\n",
        "> The distinction between lists and tuples lies in their design and intended use:\n",
        "\n",
        "Lists are designed to be mutable to allow for dynamic data manipulation,\n",
        "such as adding, removing, or changing elements.\n",
        "\n",
        "Tuples are immutable to ensure data integrity and to be used as keys in\n",
        "dictionaries, which require hashable (immutable) types.\n",
        "\n",
        "This design choice balances flexibility and performance considerations in Python .\n",
        "\n",
        "7.What is the difference between “==” and “is” operators in Python\n",
        "> \"==\" checks for value equality: It returns True if the values of two objects\n",
        "are the same.\n",
        "\n",
        "\"is\" checks for identity: It returns True if two variables point to the same\n",
        "object in memory.\n",
        "8.What are logical operators in Python\n",
        "> Python provides three logical operators:\n",
        "\n",
        "and: Returns True if both operands are true.\n",
        "\n",
        "or: Returns True if at least one operand is true.\n",
        "\n",
        "not: Returns True if the operand is false.\n",
        "\n",
        "These operators are used to combine conditional statements and control the\n",
        "flow of execution.\n",
        "\n",
        "9.What is type casting in Python\n",
        "> Type casting is the process of converting a variable from one data type to\n",
        "another. Python supports two types of type casting:\n",
        "\n",
        "Implicit casting (automatic): Python automatically converts data types when\n",
        "necessary.\n",
        "Explicit casting (manual): The programmer explicitly converts data types using\n",
        "functions like int(), float(), or str().\n",
        "\n",
        "10.What is the difference between implicit and explicit type casting\n",
        "> Implicit type casting: Automatically performed by Python when it converts a\n",
        "smaller data type to a larger one (e.g., from int to float).\n",
        "\n",
        "Explicit type casting: Performed by the programmer using casting functions to\n",
        "convert data types as needed.\n",
        "\n",
        "Implicit casting is convenient but limited, while explicit casting provides\n",
        "more control over data types .\n",
        "\n",
        "\n",
        "11.What is the purpose of conditional statements in Python\n",
        "> Conditional statements allow Python to execute certain blocks of code based\n",
        "on whether a condition is true or false. This enables decision-making in\n",
        "programs. The primary conditional statements are:\n",
        "\n",
        "if: Executes a block of code if the condition is true.\n",
        "\n",
        "elif: Checks another condition if the previous if or elif was false.\n",
        "\n",
        "else: Executes a block of code if all preceding conditions were false.\n",
        "\n",
        "12.How does the elif statement work\n",
        "> The elif (else if) statement allows you to check multiple conditions\n",
        "sequentially. If the condition associated with if is false, Python evaluates\n",
        "the condition in elif. If that is also false, it moves to the next elif or\n",
        "else block.\n",
        "\n",
        "13.What is the difference between for and while loops\n",
        "> for loop: Iterates over a sequence (like a list, tuple, or string) and\n",
        "executes a block of code for each item.\n",
        "while loop: Repeats a block of code as long as a condition is true.\n",
        "\n",
        "14.Describe a scenario where a while loop is more suitable than a for loop.\n",
        "> A while loop is more suitable when the number of iterations is not\n",
        "predetermined and depends on dynamic conditions. For example, reading data\n",
        "from a user until a valid input is provided.\n",
        "'''"
      ],
      "metadata": {
        "colab": {
          "base_uri": "https://localhost:8080/",
          "height": 139
        },
        "id": "TMJ962_NFRdF",
        "outputId": "851c0541-9a22-4abe-910b-ecbe0b4d28cf"
      },
      "execution_count": 4,
      "outputs": [
        {
          "output_type": "execute_result",
          "data": {
            "text/plain": [
              "'\\n\\n1.What is Python, and why is it popular\\n> Python, developed by Guido van Rossum and released in 1991, is a high-level,\\ninterpreted programming language celebrated for its simplicity and readability.\\nIt supports multiple programming paradigms, including object-oriented,\\nprocedural, and functional programming, making it versatile for various \\napplications. Python\\'s extensive standard library and dynamic typing facilitate\\nrapid development, while its cross-platform compatibility ensures broad\\nusability. Its clean syntax and strong community support contribute to its\\nwidespread adoption across industries.\\n\\n2.What is an interpreter in Python\\n> An interpreter is a program that executes source code directly, translating it\\ninto machine code line-by-line. Python is an interpreted language, meaning code\\nis executed by the Python interpreter without the need for prior compilation.\\nThis allows for interactive coding and rapid testing .\\n\\n3.What are pre-defined keywords in Python\\n> Python has 35 reserved keywords that cannot be used as identifiers\\n(e.g., variable names). These keywords define the syntax and structure of the \\nPython language. Examples include:\\n4.Can keywords be used as variable names\\n>No, Python keywords cannot be used as variable names. Attempting to do so will \\nresult in a syntax error. \\n\\n5.What is mutability in Python\\n> In Python, mutability determines whether an object\\'s state can be changed \\nafter its creation: mutable objects like lists, dictionaries, and sets allow\\nmodifications, while immutable objects such as strings, tuples, and integers\\ncannot be altered once defined, impacting data integrity and performance.\\n\\n6.Why are lists mutable, but tuples are immutable\\n> The distinction between lists and tuples lies in their design and intended use:\\n\\nLists are designed to be mutable to allow for dynamic data manipulation, \\nsuch as adding, removing, or changing elements.\\n\\nTuples are immutable to ensure data integrity and to be used as keys in\\ndictionaries, which require hashable (immutable) types.\\n\\nThis design choice balances flexibility and performance considerations in Python .\\n\\n7.What is the difference between “==” and “is” operators in Python\\n> \"==\" checks for value equality: It returns True if the values of two objects\\nare the same.\\n\\n\"is\" checks for identity: It returns True if two variables point to the same\\nobject in memory.\\n8.What are logical operators in Python\\n> Python provides three logical operators:\\n\\nand: Returns True if both operands are true.\\n\\nor: Returns True if at least one operand is true.\\n\\nnot: Returns True if the operand is false.\\n\\nThese operators are used to combine conditional statements and control the\\nflow of execution.\\n\\n9.What is type casting in Python\\n> Type casting is the process of converting a variable from one data type to\\nanother. Python supports two types of type casting:\\n\\nImplicit casting (automatic): Python automatically converts data types when \\nnecessary.\\nExplicit casting (manual): The programmer explicitly converts data types using\\nfunctions like int(), float(), or str().\\n\\n10.What is the difference between implicit and explicit type casting\\n> Implicit type casting: Automatically performed by Python when it converts a \\nsmaller data type to a larger one (e.g., from int to float).\\n\\nExplicit type casting: Performed by the programmer using casting functions to \\nconvert data types as needed.\\n\\nImplicit casting is convenient but limited, while explicit casting provides \\nmore control over data types .\\n\\n\\n11.What is the purpose of conditional statements in Python\\n> Conditional statements allow Python to execute certain blocks of code based \\non whether a condition is true or false. This enables decision-making in \\nprograms. The primary conditional statements are:\\n\\nif: Executes a block of code if the condition is true.\\n\\nelif: Checks another condition if the previous if or elif was false.\\n\\nelse: Executes a block of code if all preceding conditions were false.\\n\\n12.How does the elif statement work\\n> The elif (else if) statement allows you to check multiple conditions \\nsequentially. If the condition associated with if is false, Python evaluates \\nthe condition in elif. If that is also false, it moves to the next elif or \\nelse block.\\n\\n13.What is the difference between for and while loops\\n> for loop: Iterates over a sequence (like a list, tuple, or string) and \\nexecutes a block of code for each item.\\nwhile loop: Repeats a block of code as long as a condition is true.\\n\\n14.Describe a scenario where a while loop is more suitable than a for loop.\\n> A while loop is more suitable when the number of iterations is not \\npredetermined and depends on dynamic conditions. For example, reading data \\nfrom a user until a valid input is provided.\\n'"
            ],
            "application/vnd.google.colaboratory.intrinsic+json": {
              "type": "string"
            }
          },
          "metadata": {},
          "execution_count": 4
        }
      ]
    },
    {
      "cell_type": "code",
      "source": [
        "# 1. Print \"Hello, World!\"\n",
        "\n",
        "print(\"Hello, World!\")"
      ],
      "metadata": {
        "colab": {
          "base_uri": "https://localhost:8080/"
        },
        "id": "Z4hyqyBIFlFp",
        "outputId": "0754fae1-5908-4e59-a79d-688aea201aa8"
      },
      "execution_count": 5,
      "outputs": [
        {
          "output_type": "stream",
          "name": "stdout",
          "text": [
            "Hello, World!\n"
          ]
        }
      ]
    },
    {
      "cell_type": "code",
      "source": [
        "# 2. Display Your Name and Age.\n",
        "\n",
        "name = input(\"Enter Your Name: \")\n",
        "age = input(\"Enter Your Age: \")\n",
        "print(f\"My name is {name} and I am {age} years old.\")\n"
      ],
      "metadata": {
        "colab": {
          "base_uri": "https://localhost:8080/"
        },
        "id": "-E58hqGCUJUs",
        "outputId": "cf33b141-b6e7-4d7e-d46d-09723ecb77a2"
      },
      "execution_count": 6,
      "outputs": [
        {
          "output_type": "stream",
          "name": "stdout",
          "text": [
            "Enter Your Name: Atul\n",
            "Enter Your Age: 25\n",
            "My name is Atul and I am 25 years old.\n"
          ]
        }
      ]
    },
    {
      "cell_type": "code",
      "source": [
        "# 3. Print All Predefined Keywords in Python.\n",
        "\n",
        "import keyword\n",
        "print(\"Python Keywords:\", keyword.kwlist)"
      ],
      "metadata": {
        "colab": {
          "base_uri": "https://localhost:8080/"
        },
        "id": "OFMvvCoJUgT7",
        "outputId": "14eaccc7-4cee-480e-fc1c-3032a9824962"
      },
      "execution_count": 8,
      "outputs": [
        {
          "output_type": "stream",
          "name": "stdout",
          "text": [
            "Python Keywords: ['False', 'None', 'True', 'and', 'as', 'assert', 'async', 'await', 'break', 'class', 'continue', 'def', 'del', 'elif', 'else', 'except', 'finally', 'for', 'from', 'global', 'if', 'import', 'in', 'is', 'lambda', 'nonlocal', 'not', 'or', 'pass', 'raise', 'return', 'try', 'while', 'with', 'yield']\n"
          ]
        }
      ]
    },
    {
      "cell_type": "code",
      "source": [
        "# 4. Check if a Given Word is a Python Keyword.\n",
        "\n",
        "import keyword\n",
        "\n",
        "word = input(\"Enter a word: \")\n",
        "if keyword.iskeyword(word):\n",
        "    print(f\"'{word}' is a Python keyword.\")\n",
        "else:\n",
        "    print(f\"'{word}' is not a Python keyword.\")"
      ],
      "metadata": {
        "colab": {
          "base_uri": "https://localhost:8080/"
        },
        "id": "dimyUgEUU1dd",
        "outputId": "5a354cf7-e607-45de-a3a2-a0f465503566"
      },
      "execution_count": 12,
      "outputs": [
        {
          "output_type": "stream",
          "name": "stdout",
          "text": [
            "Enter a word: True\n",
            "'True' is a Python keyword.\n"
          ]
        }
      ]
    },
    {
      "cell_type": "code",
      "source": [
        "# 5. List and Tuple Demonstration\n",
        "\n",
        "# List\n",
        "my_list = [1, 2, 3]\n",
        "print(\"Original List:\", my_list)\n",
        "my_list[0] = 10  # Lists are mutable\n",
        "print(\"Modified List:\", my_list)\n",
        "\n",
        "# Tuple\n",
        "my_tuple = (1, 2, 3)\n",
        "print(\"Original Tuple:\", my_tuple)\n",
        "try:\n",
        "    my_tuple[0] = 10  # Tuples are immutable\n",
        "except TypeError as e:\n",
        "    print(f\"Error: {e}\")"
      ],
      "metadata": {
        "colab": {
          "base_uri": "https://localhost:8080/"
        },
        "id": "htYY_tnaVElS",
        "outputId": "18577a02-4cd7-4b57-8a6c-dd863368c91e"
      },
      "execution_count": 13,
      "outputs": [
        {
          "output_type": "stream",
          "name": "stdout",
          "text": [
            "Original List: [1, 2, 3]\n",
            "Modified List: [10, 2, 3]\n",
            "Original Tuple: (1, 2, 3)\n",
            "Error: 'tuple' object does not support item assignment\n"
          ]
        }
      ]
    },
    {
      "cell_type": "code",
      "source": [
        "# 6. Mutable and Immutable Arguments.\n",
        "\n",
        "def test_mutability(lst, val):\n",
        "    lst.append(4)  # Mutable.argument\n",
        "    val += 1       # Immutable.argument\n",
        "    print(\"Inside function - List:\", lst)\n",
        "    print(\"Inside function - Value:\", val)\n",
        "\n",
        "my_list = [1, 2, 3]\n",
        "my_value = 10\n",
        "test_mutability(my_list, my_value)\n",
        "print(\"Outside function - List:\", my_list)\n",
        "print(\"Outside function - Value:\", my_value)"
      ],
      "metadata": {
        "colab": {
          "base_uri": "https://localhost:8080/"
        },
        "id": "X_4orj4UVVR1",
        "outputId": "f3f6e25b-2fe7-4c38-853b-5c554d54f15d"
      },
      "execution_count": 14,
      "outputs": [
        {
          "output_type": "stream",
          "name": "stdout",
          "text": [
            "Inside function - List: [1, 2, 3, 4]\n",
            "Inside function - Value: 11\n",
            "Outside function - List: [1, 2, 3, 4]\n",
            "Outside function - Value: 10\n"
          ]
        }
      ]
    },
    {
      "cell_type": "code",
      "source": [
        "# 7. Basic Arithmetic Operations on User Input\n",
        "\n",
        "num1 = float(input(\"Enter first number: \"))\n",
        "num2 = float(input(\"Enter second number: \"))\n",
        "print(f\"Addition: {num1 + num2}\")\n",
        "print(f\"Subtraction: {num1 - num2}\")\n",
        "print(f\"Multiplication: {num1 * num2}\")\n",
        "print(f\"Division: {num1 / num2 if num2 != 0 else 'Cannot divide by zero'}\")"
      ],
      "metadata": {
        "colab": {
          "base_uri": "https://localhost:8080/"
        },
        "id": "b2k2iR52Vyx0",
        "outputId": "90acda23-43f8-47c7-8c70-acc0e4640a4f"
      },
      "execution_count": 15,
      "outputs": [
        {
          "output_type": "stream",
          "name": "stdout",
          "text": [
            "Enter first number: 4\n",
            "Enter second number: 4\n",
            "Addition: 8.0\n",
            "Subtraction: 0.0\n",
            "Multiplication: 16.0\n",
            "Division: 1.0\n"
          ]
        }
      ]
    },
    {
      "cell_type": "code",
      "source": [
        "# 8. Demonstrate Logical Operators.\n",
        "\n",
        "a = True\n",
        "b = False\n",
        "print(f\"a and b: {a and b}\")\n",
        "print(f\"a or b: {a or b}\")\n",
        "print(f\"not a: {not a}\")"
      ],
      "metadata": {
        "colab": {
          "base_uri": "https://localhost:8080/"
        },
        "id": "Pq-ahjHOYfbE",
        "outputId": "54f83794-e87a-458d-998a-b54982b5b68c"
      },
      "execution_count": 17,
      "outputs": [
        {
          "output_type": "stream",
          "name": "stdout",
          "text": [
            "a and b: False\n",
            "a or b: True\n",
            "not a: False\n"
          ]
        }
      ]
    },
    {
      "cell_type": "code",
      "source": [
        "# 9. Convert User Input to Different Types.\n",
        "\n",
        "user_input = input(\"Enter a value: \")\n",
        "print(f\"String: {user_input}\")\n",
        "print(f\"Integer: {int(user_input)}\")\n",
        "print(f\"Float: {float(user_input)}\")\n",
        "print(f\"Boolean: {bool(user_input)}\")"
      ],
      "metadata": {
        "colab": {
          "base_uri": "https://localhost:8080/"
        },
        "id": "JCMdKaWNYmdo",
        "outputId": "ae0490a1-60d3-47ab-d98a-734e8d376538"
      },
      "execution_count": 20,
      "outputs": [
        {
          "output_type": "stream",
          "name": "stdout",
          "text": [
            "Enter a value: 4\n",
            "String: 4\n",
            "Integer: 4\n",
            "Float: 4.0\n",
            "Boolean: True\n"
          ]
        }
      ]
    },
    {
      "cell_type": "code",
      "source": [
        "# 10. Type Casting with List Elements.\n",
        "\n",
        "mixed_list = [\"10\", \"20.5\", \"True\"]\n",
        "int_list = [int(i) if i.isdigit() else 0 for i in mixed_list]\n",
        "print(\"Converted List:\", int_list)"
      ],
      "metadata": {
        "colab": {
          "base_uri": "https://localhost:8080/"
        },
        "id": "jPzHpMyEYxol",
        "outputId": "d6f333d8-4f5a-48d7-c0d1-7ace98b15d5e"
      },
      "execution_count": 21,
      "outputs": [
        {
          "output_type": "stream",
          "name": "stdout",
          "text": [
            "Converted List: [10, 0, 0]\n"
          ]
        }
      ]
    },
    {
      "cell_type": "code",
      "source": [
        "# 11. Check if a Number is Positive, Negative, or Zero\n",
        "\n",
        "num = float(input(\"Enter a number: \"))\n",
        "if num > 0:\n",
        "    print(\"Positive\")\n",
        "elif num < 0:\n",
        "    print(\"Negative\")\n",
        "else:\n",
        "    print(\"Zero\")\n"
      ],
      "metadata": {
        "colab": {
          "base_uri": "https://localhost:8080/"
        },
        "id": "CS6HSso-ZA8D",
        "outputId": "1b58b082-bf37-49ce-8f6a-866ba03ef3de"
      },
      "execution_count": 22,
      "outputs": [
        {
          "output_type": "stream",
          "name": "stdout",
          "text": [
            "Enter a number: 56\n",
            "Positive\n"
          ]
        }
      ]
    },
    {
      "cell_type": "code",
      "source": [
        "# 12. Print Numbers from 1 to 10 Using a For Loop.\n",
        "\n",
        "for i in range(1, 11):\n",
        "    print(i)"
      ],
      "metadata": {
        "colab": {
          "base_uri": "https://localhost:8080/"
        },
        "id": "im_WNTalZRXA",
        "outputId": "e9dd03d1-dfcb-41c5-ca03-042c9d9a2943"
      },
      "execution_count": 23,
      "outputs": [
        {
          "output_type": "stream",
          "name": "stdout",
          "text": [
            "1\n",
            "2\n",
            "3\n",
            "4\n",
            "5\n",
            "6\n",
            "7\n",
            "8\n",
            "9\n",
            "10\n"
          ]
        }
      ]
    },
    {
      "cell_type": "code",
      "source": [
        "# 13. Sum of All Even Numbers Between 1 and 50.\n",
        "\n",
        "even_sum = sum(i for i in range(1, 51) if i % 2 == 0)\n",
        "print(\"Sum of even numbers between 1 and 50:\", even_sum)"
      ],
      "metadata": {
        "colab": {
          "base_uri": "https://localhost:8080/"
        },
        "id": "_Uki_0doZZvp",
        "outputId": "24431228-784d-4871-d47a-258409b34de7"
      },
      "execution_count": 24,
      "outputs": [
        {
          "output_type": "stream",
          "name": "stdout",
          "text": [
            "Sum of even numbers between 1 and 50: 650\n"
          ]
        }
      ]
    },
    {
      "cell_type": "code",
      "source": [
        "# 14. Reverse a String Using a While Loop\n",
        "\n",
        "input_string = input(\"Enter a string: \")\n",
        "reversed_string = \"\"\n",
        "i = len(input_string) - 1\n",
        "while i >= 0:\n",
        "    reversed_string += input_string[i]\n",
        "    i -= 1\n",
        "print(\"Reversed String:\", reversed_string)\n"
      ],
      "metadata": {
        "colab": {
          "base_uri": "https://localhost:8080/"
        },
        "id": "nh5Sp8yVZiee",
        "outputId": "e8bccddf-948f-4180-fcf7-465a3486aa58"
      },
      "execution_count": 25,
      "outputs": [
        {
          "output_type": "stream",
          "name": "stdout",
          "text": [
            "Enter a string: 23\n",
            "Reversed String: 32\n"
          ]
        }
      ]
    },
    {
      "cell_type": "code",
      "source": [
        "# 15. Calculate Factorial Using a While Loop.\n",
        "\n",
        "num = int(input(\"Enter a number: \"))\n",
        "factorial = 1\n",
        "while num > 1:\n",
        "    factorial *= num\n",
        "    num -= 1\n",
        "print(\"Factorial:\", factorial)"
      ],
      "metadata": {
        "colab": {
          "base_uri": "https://localhost:8080/"
        },
        "id": "7Tzf2nLiZwxr",
        "outputId": "93c87dd7-ca71-4772-998a-6e3950bb97e7"
      },
      "execution_count": 26,
      "outputs": [
        {
          "output_type": "stream",
          "name": "stdout",
          "text": [
            "Enter a number: 5\n",
            "Factorial: 120\n"
          ]
        }
      ]
    },
    {
      "cell_type": "code",
      "source": [],
      "metadata": {
        "id": "YYfTDWdvZ9qt"
      },
      "execution_count": null,
      "outputs": []
    }
  ]
}