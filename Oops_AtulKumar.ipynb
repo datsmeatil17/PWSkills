{
  "nbformat": 4,
  "nbformat_minor": 0,
  "metadata": {
    "colab": {
      "provenance": []
    },
    "kernelspec": {
      "name": "python3",
      "display_name": "Python 3"
    },
    "language_info": {
      "name": "python"
    }
  },
  "cells": [
    {
      "cell_type": "code",
      "execution_count": 3,
      "metadata": {
        "colab": {
          "base_uri": "https://localhost:8080/",
          "height": 139
        },
        "id": "fA8bTxt_F-Mg",
        "outputId": "661f48d4-7bab-4ea8-b467-aea99e2d8c17"
      },
      "outputs": [
        {
          "output_type": "execute_result",
          "data": {
            "text/plain": [
              "\" \\n\\n1. What is Object-Oriented Programming (OOP)?\\nA programming paradigm where software is modeled using objects, which bundle data (attributes) and behavior (methods). Programs are designed as interactions between these objects \\ndatacamp.com\\nen.wikipedia.org\\njavatpoint.com\\n.\\n\\n2. What is a class in OOP?\\nA blueprint or template defining attributes (fields) and behaviors (methods) shared by its instances \\ngeeksforgeeks.org\\n.\\n\\n3. What is an object in OOP?\\nA specific instance of a class containing its own state and responding to messages/method calls .\\n\\n4. Difference between abstraction and encapsulation\\nAbstraction hides implementation complexity, exposing only essential features.\\n\\nEncapsulation binds data and methods into a unit and restricts direct access \\nen.wikipedia.org\\ngeeksforgeeks.org\\njavatpoint.com\\n.\\n\\n5. What are dunder methods in Python?\\nAlso called magic methods, they use double underscores (e.g., __init__, __str__, __add__, __call__), letting Python objects respond to built-in behaviors \\nreddit.com\\nrealpython.com\\nreddit.com\\n.\\n\\n6. Explain inheritance in OOP\\nA mechanism where a subclass derives properties and behaviors from a parent class, enabling reuse and hierarchical modeling \\ngeeksforgeeks.org\\n.\\n\\n7. What is polymorphism in OOP?\\nThe ability for different classes to be treated uniformly through a common interface, where the same method name can execute different implementations \\ngeeksforgeeks.org\\n\\ngeeksforgeeks.org\\nreddit.com\\n.\\n\\n8. How is encapsulation achieved in Python?\\nBy using naming conventions (_protected, __private) and accessing attributes via getter/setter methods to hide internal state \\nreddit.com\\ngeeksforgeeks.org\\nreddit.com\\n.\\n\\n9. What is a constructor in Python?\\nThe __init__(self, …) initializer, automatically invoked when creating an instance, setting up initial state .\\n\\n10. What are class and static methods in Python?\\n@classmethod: receives cls, operates on the class itself.\\n\\n@staticmethod: no self or cls, acts like a regular function within class scope.\\n\\n11. What is method overloading in Python?\\nPython doesn’t support true compile-time overloading. Instead, you mimic it using default arguments or *args/**kwargs.\\n\\n12. What is method overriding in OOP?\\nRedefining a method in a subclass to change or extend the behavior inherited from the parent class.\\n\\n13. What is a property decorator in Python?\\n@property marks a method as an attribute, allowing controlled access (read/write) while maintaining encapsulation.\\n\\n14. Why is polymorphism important in OOP?\\nIt empowers flexible, modular, maintainable design by allowing interchangeable objects through a unified interface .\\n\\n15. What is an abstract class in Python?\\nA class with one or more @abstractmethod methods (from the abc module) that must be implemented by subclasses.\\n\\n16. Advantages of OOP\\nModularity\\n\\nReusability\\n\\nScalability & Maintainability\\n\\nAbstraction & Encapsulation (Security)\\n\\nFlexibility via Polymorphism\\n\\nOften lowers development and maintenance costs \\neconomictimes.indiatimes.com\\nen.wikipedia.org\\ntechtarget.com\\njavatpoint.com\\n.\\n\\n17. What is multiple inheritance in Python?\\nA class can inherit from multiple parents, combining behaviors, managed via Python's method resolution order (MRO).\\n\\n18. Difference between class and instance variables\\nClass variables: shared across all instances of a class.\\n\\nInstance variables: unique to each object instance.\\n\\n19. Purpose of __str__ vs. __repr__ in Python\\n__str__: user-friendly string output.\\n\\n__repr__: unambiguous, developer-centric representation \\nreddit.com\\n.\\n\\n20. Significance of super() in Python\\nUsed in subclasses to call methods (like __init__) of the parent class, enabling clean, extendable code and avoiding duplication.\\n\\n21. Significance of __del__ method in Python\\nInvoked when an object is about to be destroyed (garbage-collected), allowing cleanup (e.g., closing files or freeing resources) \\nen.wikipedia.org\\nreddit.com\\ndatacamp.com\\n.\\n\\n22. Difference between @staticmethod and @classmethod\\n@staticmethod: no class or instance context.\\n\\n@classmethod: gets the class (cls), can modify class-level data.\\n\\n23. How does polymorphism work in Python with inheritance?\\nSubclasses override base-class methods. When called through a base-class reference, the subclass’s version runs (dynamic dispatch).\\n\\n24. What is method chaining in Python OOP?\\nWhen methods return self, enabling chained calls like obj.set_x(...).set_y(...).\\n\\n25. What is the purpose of the __call__ method in Python?\\nAllows an object instance to be called like a function, useful for function-like behavior with internal state (e.g., caching) \\nreddit.com\\ngeeksforgeeks.org\\nreddit.com\\n.\\n\""
            ],
            "application/vnd.google.colaboratory.intrinsic+json": {
              "type": "string"
            }
          },
          "metadata": {},
          "execution_count": 3
        }
      ],
      "source": [
        "'''\n",
        "\n",
        "1. What is Object-Oriented Programming (OOP)?\n",
        "A programming paradigm where software is modeled using objects, which bundle data (attributes) and behavior (methods). Programs are designed as interactions between these objects\n",
        "datacamp.com\n",
        "en.wikipedia.org\n",
        "javatpoint.com\n",
        ".\n",
        "\n",
        "2. What is a class in OOP?\n",
        "A blueprint or template defining attributes (fields) and behaviors (methods) shared by its instances\n",
        "geeksforgeeks.org\n",
        ".\n",
        "\n",
        "3. What is an object in OOP?\n",
        "A specific instance of a class containing its own state and responding to messages/method calls .\n",
        "\n",
        "4. Difference between abstraction and encapsulation\n",
        "Abstraction hides implementation complexity, exposing only essential features.\n",
        "\n",
        "Encapsulation binds data and methods into a unit and restricts direct access\n",
        "en.wikipedia.org\n",
        "geeksforgeeks.org\n",
        "javatpoint.com\n",
        ".\n",
        "\n",
        "5. What are dunder methods in Python?\n",
        "Also called magic methods, they use double underscores (e.g., __init__, __str__, __add__, __call__), letting Python objects respond to built-in behaviors\n",
        "reddit.com\n",
        "realpython.com\n",
        "reddit.com\n",
        ".\n",
        "\n",
        "6. Explain inheritance in OOP\n",
        "A mechanism where a subclass derives properties and behaviors from a parent class, enabling reuse and hierarchical modeling\n",
        "geeksforgeeks.org\n",
        ".\n",
        "\n",
        "7. What is polymorphism in OOP?\n",
        "The ability for different classes to be treated uniformly through a common interface, where the same method name can execute different implementations\n",
        "geeksforgeeks.org\n",
        "\n",
        "geeksforgeeks.org\n",
        "reddit.com\n",
        ".\n",
        "\n",
        "8. How is encapsulation achieved in Python?\n",
        "By using naming conventions (_protected, __private) and accessing attributes via getter/setter methods to hide internal state\n",
        "reddit.com\n",
        "geeksforgeeks.org\n",
        "reddit.com\n",
        ".\n",
        "\n",
        "9. What is a constructor in Python?\n",
        "The __init__(self, …) initializer, automatically invoked when creating an instance, setting up initial state .\n",
        "\n",
        "10. What are class and static methods in Python?\n",
        "@classmethod: receives cls, operates on the class itself.\n",
        "\n",
        "@staticmethod: no self or cls, acts like a regular function within class scope.\n",
        "\n",
        "11. What is method overloading in Python?\n",
        "Python doesn’t support true compile-time overloading. Instead, you mimic it using default arguments or *args/**kwargs.\n",
        "\n",
        "12. What is method overriding in OOP?\n",
        "Redefining a method in a subclass to change or extend the behavior inherited from the parent class.\n",
        "\n",
        "13. What is a property decorator in Python?\n",
        "@property marks a method as an attribute, allowing controlled access (read/write) while maintaining encapsulation.\n",
        "\n",
        "14. Why is polymorphism important in OOP?\n",
        "It empowers flexible, modular, maintainable design by allowing interchangeable objects through a unified interface .\n",
        "\n",
        "15. What is an abstract class in Python?\n",
        "A class with one or more @abstractmethod methods (from the abc module) that must be implemented by subclasses.\n",
        "\n",
        "16. Advantages of OOP\n",
        "Modularity\n",
        "\n",
        "Reusability\n",
        "\n",
        "Scalability & Maintainability\n",
        "\n",
        "Abstraction & Encapsulation (Security)\n",
        "\n",
        "Flexibility via Polymorphism\n",
        "\n",
        "Often lowers development and maintenance costs\n",
        "economictimes.indiatimes.com\n",
        "en.wikipedia.org\n",
        "techtarget.com\n",
        "javatpoint.com\n",
        ".\n",
        "\n",
        "17. What is multiple inheritance in Python?\n",
        "A class can inherit from multiple parents, combining behaviors, managed via Python's method resolution order (MRO).\n",
        "\n",
        "18. Difference between class and instance variables\n",
        "Class variables: shared across all instances of a class.\n",
        "\n",
        "Instance variables: unique to each object instance.\n",
        "\n",
        "19. Purpose of __str__ vs. __repr__ in Python\n",
        "__str__: user-friendly string output.\n",
        "\n",
        "__repr__: unambiguous, developer-centric representation\n",
        "reddit.com\n",
        ".\n",
        "\n",
        "20. Significance of super() in Python\n",
        "Used in subclasses to call methods (like __init__) of the parent class, enabling clean, extendable code and avoiding duplication.\n",
        "\n",
        "21. Significance of __del__ method in Python\n",
        "Invoked when an object is about to be destroyed (garbage-collected), allowing cleanup (e.g., closing files or freeing resources)\n",
        "en.wikipedia.org\n",
        "reddit.com\n",
        "datacamp.com\n",
        ".\n",
        "\n",
        "22. Difference between @staticmethod and @classmethod\n",
        "@staticmethod: no class or instance context.\n",
        "\n",
        "@classmethod: gets the class (cls), can modify class-level data.\n",
        "\n",
        "23. How does polymorphism work in Python with inheritance?\n",
        "Subclasses override base-class methods. When called through a base-class reference, the subclass’s version runs (dynamic dispatch).\n",
        "\n",
        "24. What is method chaining in Python OOP?\n",
        "When methods return self, enabling chained calls like obj.set_x(...).set_y(...).\n",
        "\n",
        "25. What is the purpose of the __call__ method in Python?\n",
        "Allows an object instance to be called like a function, useful for function-like behavior with internal state (e.g., caching)\n",
        "reddit.com\n",
        "geeksforgeeks.org\n",
        "reddit.com\n",
        ".\n",
        "'''"
      ]
    },
    {
      "cell_type": "code",
      "source": [
        "#1. Create a parent class Animal with a method speak() that prints a generic message. Create a child class Dog that overrides the speak() method to print \"Bark!\".\n",
        "\n",
        "class Animal:\n",
        "    def speak(self):\n",
        "        print(\"The animal makes a sound\")\n",
        "\n",
        "class Dog(Animal):\n",
        "    def speak(self):\n",
        "        print(\"Bark!\")\n",
        "\n",
        "# Test\n",
        "Animal().speak()\n",
        "Dog().speak()"
      ],
      "metadata": {
        "colab": {
          "base_uri": "https://localhost:8080/"
        },
        "id": "rfXFyMOiGHQN",
        "outputId": "4e792229-1226-46a3-8810-efd202e7a62b"
      },
      "execution_count": 4,
      "outputs": [
        {
          "output_type": "stream",
          "name": "stdout",
          "text": [
            "The animal makes a sound\n",
            "Bark!\n"
          ]
        }
      ]
    },
    {
      "cell_type": "code",
      "source": [
        "#2. Write a program to create an abstract class Shape with a method area(). Derive classes Circle and Rectangle from it and implement the area() method in both.\n",
        "from abc import ABC, abstractmethod\n",
        "\n",
        "class Shape(ABC):\n",
        "    @abstractmethod\n",
        "    def area(self):\n",
        "        pass\n",
        "\n",
        "class Circle(Shape):\n",
        "    def __init__(self, radius):\n",
        "        self.radius = radius\n",
        "    def area(self):\n",
        "        import math\n",
        "        return math.pi * self.radius**2\n",
        "\n",
        "class Rectangle(Shape):\n",
        "    def __init__(self, width, height):\n",
        "        self.width = width; self.height = height\n",
        "    def area(self):\n",
        "        return self.width * self.height\n",
        "\n",
        "# Test\n",
        "print(Circle(3).area(), Rectangle(4,5).area())"
      ],
      "metadata": {
        "colab": {
          "base_uri": "https://localhost:8080/"
        },
        "id": "BEXjaikCGylI",
        "outputId": "4d110666-92af-45eb-8834-5519742bd474"
      },
      "execution_count": 26,
      "outputs": [
        {
          "output_type": "stream",
          "name": "stdout",
          "text": [
            "28.274333882308138 20\n"
          ]
        }
      ]
    },
    {
      "cell_type": "code",
      "source": [
        "# 3. Implement a multi-level inheritance scenario where a class Vehicle has an attribute type. Derive a class Car and further derive a class ElectricCar that adds a battery attribute.\n",
        "class Vehicle:\n",
        "    def __init__(self, type_):\n",
        "        self.type = type_\n",
        "\n",
        "class Car(Vehicle):\n",
        "    def __init__(self, type_, model):\n",
        "        super().__init__(type_)\n",
        "        self.model = model\n",
        "\n",
        "class ElectricCar(Car):\n",
        "    def __init__(self, type_, model, battery):\n",
        "        super().__init__(type_, model)\n",
        "        self.battery = battery\n",
        "\n",
        "# Test\n",
        "ec = ElectricCar(\"Vehicle\", \"Tesla Model S\", \"100 kWh\")\n",
        "print(ec.type, ec.model, ec.battery)"
      ],
      "metadata": {
        "colab": {
          "base_uri": "https://localhost:8080/"
        },
        "id": "AxmdArsQHBLY",
        "outputId": "241d5202-1866-4d30-c834-18defe7fda02"
      },
      "execution_count": 28,
      "outputs": [
        {
          "output_type": "stream",
          "name": "stdout",
          "text": [
            "Vehicle Tesla Model S 100 kWh\n"
          ]
        }
      ]
    },
    {
      "cell_type": "code",
      "source": [
        "#4. Demonstrate polymorphism by creating a base class Bird with a method fly(). Create two derived classes Sparrow and Penguin that override the fly() method.\n",
        "class Bird:\n",
        "    def fly(self):\n",
        "        print(\"Some birds can fly\")\n",
        "\n",
        "class Sparrow(Bird):\n",
        "    def fly(self):\n",
        "        print(\"Sparrow flies high\")\n",
        "\n",
        "class Penguin(Bird):\n",
        "    def fly(self):\n",
        "        print(\"Penguin can't fly\")\n",
        "\n",
        "# Test\n",
        "for b in [Sparrow(), Penguin()]:\n",
        "    b.fly()"
      ],
      "metadata": {
        "colab": {
          "base_uri": "https://localhost:8080/"
        },
        "id": "jdPmXJSgHPqr",
        "outputId": "fa39ddc7-bd66-44c3-d469-1d68261c7cc0"
      },
      "execution_count": 29,
      "outputs": [
        {
          "output_type": "stream",
          "name": "stdout",
          "text": [
            "Sparrow flies high\n",
            "Penguin can't fly\n"
          ]
        }
      ]
    },
    {
      "cell_type": "code",
      "source": [
        "#5. Write a program to demonstrate encapsulation by creating a class BankAccount with private attributes balance and methods to deposit, withdraw, and check balance.\n",
        "class BankAccount:\n",
        "    def __init__(self):\n",
        "        self.__balance = 0\n",
        "\n",
        "    def deposit(self, amount):\n",
        "        self.__balance += amount\n",
        "\n",
        "    def withdraw(self, amount):\n",
        "        if amount <= self.__balance:\n",
        "            self.__balance -= amount\n",
        "        else:\n",
        "            print(\"Insufficient funds\")\n",
        "\n",
        "    def get_balance(self):\n",
        "        return self.__balance\n",
        "\n",
        "# Test\n",
        "acct = BankAccount()\n",
        "acct.deposit(100)\n",
        "acct.withdraw(30)\n",
        "print(acct.get_balance())\n"
      ],
      "metadata": {
        "colab": {
          "base_uri": "https://localhost:8080/"
        },
        "id": "g18J6PSUHW5s",
        "outputId": "26cd379b-4d48-402b-fd6a-2826fbff83e9"
      },
      "execution_count": 31,
      "outputs": [
        {
          "output_type": "stream",
          "name": "stdout",
          "text": [
            "70\n"
          ]
        }
      ]
    },
    {
      "cell_type": "code",
      "source": [
        "#6. Demonstrate runtime polymorphism using a method play() in a base class Instrument. Derive classes Guitar and Piano that implement their own version of play().\n",
        "class Instrument:\n",
        "    def play(self):\n",
        "        raise NotImplementedError\n",
        "\n",
        "class Guitar(Instrument):\n",
        "    def play(self):\n",
        "        print(\"Strumming the guitar\")\n",
        "\n",
        "class Piano(Instrument):\n",
        "    def play(self):\n",
        "        print(\"Playing the piano keys\")\n",
        "\n",
        "# Test\n",
        "for inst in [Guitar(), Piano()]:\n",
        "    inst.play()\n"
      ],
      "metadata": {
        "colab": {
          "base_uri": "https://localhost:8080/"
        },
        "id": "RJYGmsV2Hash",
        "outputId": "5cb908bd-6c16-4a6f-bab8-f60b421583b3"
      },
      "execution_count": 33,
      "outputs": [
        {
          "output_type": "stream",
          "name": "stdout",
          "text": [
            "Strumming the guitar\n",
            "Playing the piano keys\n"
          ]
        }
      ]
    },
    {
      "cell_type": "code",
      "source": [
        "\n",
        "#7. Create a class MathOperations with a class method add_numbers() to add two numbers and a static method subtract_numbers() to subtract two numbers.\n",
        "class MathOperations:\n",
        "    @classmethod\n",
        "    def add_numbers(cls, a, b):\n",
        "        return a + b\n",
        "\n",
        "    @staticmethod\n",
        "    def subtract_numbers(a, b):\n",
        "        return a - b\n",
        "\n",
        "# Test\n",
        "print(MathOperations.add_numbers(5,3))\n",
        "print(MathOperations.subtract_numbers(5,3))\n"
      ],
      "metadata": {
        "colab": {
          "base_uri": "https://localhost:8080/"
        },
        "id": "Vem48SsiHcvX",
        "outputId": "755c978d-4611-4194-e8c6-7db660e2193b"
      },
      "execution_count": 34,
      "outputs": [
        {
          "output_type": "stream",
          "name": "stdout",
          "text": [
            "8\n",
            "2\n"
          ]
        }
      ]
    },
    {
      "cell_type": "code",
      "source": [
        "# 8. Implement a class Person with a class method to count the total number of persons created.\n",
        "class Person:\n",
        "    count = 0\n",
        "    def __init__(self):\n",
        "        Person.count += 1\n",
        "\n",
        "    @classmethod\n",
        "    def total_persons(cls):\n",
        "        return cls.count\n",
        "\n",
        "# Test\n",
        "p1 = Person(); p2 = Person()\n",
        "print(Person.total_persons())"
      ],
      "metadata": {
        "colab": {
          "base_uri": "https://localhost:8080/"
        },
        "id": "QvUsOg0cHk0n",
        "outputId": "6838acaf-bd7c-4bb9-eaa1-f3c63f4c140a"
      },
      "execution_count": 35,
      "outputs": [
        {
          "output_type": "stream",
          "name": "stdout",
          "text": [
            "2\n"
          ]
        }
      ]
    },
    {
      "cell_type": "code",
      "source": [
        "# 9. Write a class Fraction with attributes numerator and denominator. Override the str method to display the fraction as \"numerator/denominator\".\n",
        "\n",
        "class Fraction:\n",
        "    def __init__(self, num, den):\n",
        "        self.num = num; self.den = den\n",
        "    def __str__(self):\n",
        "        return f\"{self.num}/{self.den}\"\n",
        "\n",
        "print(Fraction(3,4))"
      ],
      "metadata": {
        "colab": {
          "base_uri": "https://localhost:8080/"
        },
        "id": "l95yQD2bHnjv",
        "outputId": "db5791fa-c534-4683-e714-c9550a1ed5a2"
      },
      "execution_count": 36,
      "outputs": [
        {
          "output_type": "stream",
          "name": "stdout",
          "text": [
            "3/4\n"
          ]
        }
      ]
    },
    {
      "cell_type": "code",
      "source": [
        "# 10. Demonstrate operator overloading by creating a class Vector and overriding the add method to add two vectors.\n",
        "class Vector:\n",
        "    def __init__(self, x, y):\n",
        "        self.x, self.y = x, y\n",
        "    def __add__(self, other):\n",
        "        return Vector(self.x + other.x, self.y + other.y)\n",
        "    def __str__(self):\n",
        "        return f\"Vector({self.x}, {self.y})\"\n",
        "\n",
        "print(Vector(1,2) + Vector(3,4))\n"
      ],
      "metadata": {
        "colab": {
          "base_uri": "https://localhost:8080/"
        },
        "id": "U_fOm5ynHqI8",
        "outputId": "30d77b62-5c37-42b9-8762-43214b5b7db1"
      },
      "execution_count": 37,
      "outputs": [
        {
          "output_type": "stream",
          "name": "stdout",
          "text": [
            "Vector(4, 6)\n"
          ]
        }
      ]
    },
    {
      "cell_type": "code",
      "source": [
        "# 11. Create a class Person with attributes name and age. Add a method greet() that prints \"Hello, my name is {name} and I am {age} years old.\"\n",
        "class Person:\n",
        "    def __init__(self, name, age):\n",
        "        self.name = name; self.age = age\n",
        "    def greet(self):\n",
        "        print(f\"Hello, my name is {self.name} and I am {self.age} years old.\")\n",
        "\n",
        "Person(\"Alice\", 30).greet()\n"
      ],
      "metadata": {
        "colab": {
          "base_uri": "https://localhost:8080/"
        },
        "id": "SPcGpkK-Hs8z",
        "outputId": "10d03922-06e2-46c9-cb83-838670d9230e"
      },
      "execution_count": 38,
      "outputs": [
        {
          "output_type": "stream",
          "name": "stdout",
          "text": [
            "Hello, my name is Alice and I am 30 years old.\n"
          ]
        }
      ]
    },
    {
      "cell_type": "code",
      "source": [
        "#12. Implement a class Student with attributes name and grades. Create a method average_grade() to compute the average of the grades.\n",
        "class Student:\n",
        "    def __init__(self, name, grades):\n",
        "        self.name = name; self.grades = grades\n",
        "    def average_grade(self):\n",
        "        return sum(self.grades)/len(self.grades)\n",
        "\n",
        "print(Student(\"Bob\", [80,90,100]).average_grade())\n",
        "\n"
      ],
      "metadata": {
        "colab": {
          "base_uri": "https://localhost:8080/"
        },
        "id": "Gn0NjCMDHvm8",
        "outputId": "987e888d-7c83-4769-82a4-18fa41990f69"
      },
      "execution_count": 39,
      "outputs": [
        {
          "output_type": "stream",
          "name": "stdout",
          "text": [
            "90.0\n"
          ]
        }
      ]
    },
    {
      "cell_type": "code",
      "source": [
        "#13. Create a class Rectangle with methods set_dimensions() to set the dimensions and area() to calculate the area.\n",
        "\n",
        "class Rectangle:\n",
        "    def __init__(self):\n",
        "        self.width = self.height = 0\n",
        "    def set_dimensions(self, w, h):\n",
        "        self.width = w; self.height = h\n",
        "    def area(self):\n",
        "        return self.width * self.height\n",
        "\n",
        "r = Rectangle()\n",
        "r.set_dimensions(5, 4)\n",
        "print(r.area())\n",
        "\n"
      ],
      "metadata": {
        "colab": {
          "base_uri": "https://localhost:8080/"
        },
        "id": "vj7ifU1hHyWo",
        "outputId": "be6f62b1-1798-4ba2-fad4-e0a83f02921d"
      },
      "execution_count": 40,
      "outputs": [
        {
          "output_type": "stream",
          "name": "stdout",
          "text": [
            "20\n"
          ]
        }
      ]
    },
    {
      "cell_type": "code",
      "source": [
        "# 14. Create a class Employee with a method calculate_salary() that computes the salary based on hours worked andhourly rate. Create a derived class Manager that adds a bonus to the salary.\n",
        "\n",
        "\n",
        "class Employee:\n",
        "    def __init__(self, hours, rate):\n",
        "        self.hours = hours; self.rate = rate\n",
        "    def calculate_salary(self):\n",
        "        return self.hours * self.rate\n",
        "\n",
        "class Manager(Employee):\n",
        "    def __init__(self, hours, rate, bonus):\n",
        "        super().__init__(hours, rate)\n",
        "        self.bonus = bonus\n",
        "    def calculate_salary(self):\n",
        "        return super().calculate_salary() + self.bonus\n",
        "\n",
        "print(Employee(40, 20).calculate_salary())\n",
        "print(Manager(40, 20, 500).calculate_salary())\n",
        "\n"
      ],
      "metadata": {
        "colab": {
          "base_uri": "https://localhost:8080/"
        },
        "id": "oH8kVSODIGzL",
        "outputId": "6443cdb5-db3e-4936-e9fc-c862534d3400"
      },
      "execution_count": 41,
      "outputs": [
        {
          "output_type": "stream",
          "name": "stdout",
          "text": [
            "800\n",
            "1300\n"
          ]
        }
      ]
    },
    {
      "cell_type": "code",
      "source": [
        "#15. Create a class Product with attributes name, price, and quantity. Implement a method total_price() that calculates the total price of the product.\n",
        "class Product:\n",
        "    def __init__(self, name, price, qty):\n",
        "        self.name = name; self.price = price; self.qty = qty\n",
        "    def total_price(self):\n",
        "        return self.price * self.qty\n",
        "\n",
        "print(Product(\"Book\", 9.99, 3).total_price())\n",
        "\n"
      ],
      "metadata": {
        "colab": {
          "base_uri": "https://localhost:8080/"
        },
        "id": "JYnUqIuYIOp3",
        "outputId": "57571dda-7726-4540-e0a4-db3b72e06023"
      },
      "execution_count": 42,
      "outputs": [
        {
          "output_type": "stream",
          "name": "stdout",
          "text": [
            "29.97\n"
          ]
        }
      ]
    },
    {
      "cell_type": "code",
      "source": [
        "# 16. Create a class Animal with an abstract method sound(). Create two derived classes Cow and Sheep that implement the sound() method.\n",
        "\n",
        "\n",
        "from abc import ABC, abstractmethod\n",
        "\n",
        "class Animal(ABC):\n",
        "    @abstractmethod\n",
        "    def sound(self):\n",
        "        pass\n",
        "\n",
        "class Cow(Animal):\n",
        "    def sound(self):\n",
        "        return \"Moo\"\n",
        "\n",
        "class Sheep(Animal):\n",
        "    def sound(self):\n",
        "        return \"Baa\"\n",
        "\n",
        "print(Cow().sound(), Sheep().sound())"
      ],
      "metadata": {
        "colab": {
          "base_uri": "https://localhost:8080/"
        },
        "id": "YQMCj7mGISQu",
        "outputId": "4496caca-4bb7-4003-83dc-b9176deab04d"
      },
      "execution_count": 43,
      "outputs": [
        {
          "output_type": "stream",
          "name": "stdout",
          "text": [
            "Moo Baa\n"
          ]
        }
      ]
    },
    {
      "cell_type": "code",
      "source": [
        "#17. Create a class Book with attributes title, author, and year_published. Add a method get_book_info() that returns a formatted string with the book's details.\n",
        "\n",
        "class Book:\n",
        "    def __init__(self, title, author, year):\n",
        "        self.title = title; self.author = author; self.year = year\n",
        "    def get_book_info(self):\n",
        "        return f\"{self.title} by {self.author}, published in {self.year}\"\n",
        "\n",
        "print(Book(\"1984\", \"George Orwell\", 1949).get_book_info())\n",
        "\n"
      ],
      "metadata": {
        "colab": {
          "base_uri": "https://localhost:8080/"
        },
        "id": "fzRfTZMUIVDX",
        "outputId": "29d7a403-45fa-4515-cefe-83edcad8d9af"
      },
      "execution_count": 44,
      "outputs": [
        {
          "output_type": "stream",
          "name": "stdout",
          "text": [
            "1984 by George Orwell, published in 1949\n"
          ]
        }
      ]
    },
    {
      "cell_type": "code",
      "source": [
        "#18. Create a class House with attributes address and price. Create a derived class Mansion that adds an attribute number_of_rooms.\n",
        "\n",
        "class House:\n",
        "    def __init__(self, address, price):\n",
        "        self.address = address; self.price = price\n",
        "\n",
        "class Mansion(House):\n",
        "    def __init__(self, address, price, number_of_rooms):\n",
        "        super().__init__(address, price)\n",
        "        self.number_of_rooms = number_of_rooms\n",
        "\n",
        "m = Mansion(\"123 Rich St\", 1_000_000, 10)\n",
        "print(m.address, m.price, m.number_of_rooms)\n"
      ],
      "metadata": {
        "colab": {
          "base_uri": "https://localhost:8080/"
        },
        "id": "oklrR70pIXwR",
        "outputId": "14ae6989-4d22-458b-c849-612ee677d63f"
      },
      "execution_count": 45,
      "outputs": [
        {
          "output_type": "stream",
          "name": "stdout",
          "text": [
            "123 Rich St 1000000 10\n"
          ]
        }
      ]
    },
    {
      "cell_type": "code",
      "source": [],
      "metadata": {
        "id": "Z3v1rVdSKOW3"
      },
      "execution_count": null,
      "outputs": []
    }
  ]
}