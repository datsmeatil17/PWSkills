{
  "nbformat": 4,
  "nbformat_minor": 0,
  "metadata": {
    "colab": {
      "provenance": []
    },
    "kernelspec": {
      "name": "python3",
      "display_name": "Python 3"
    },
    "language_info": {
      "name": "python"
    }
  },
  "cells": [
    {
      "cell_type": "code",
      "execution_count": 2,
      "metadata": {
        "colab": {
          "base_uri": "https://localhost:8080/",
          "height": 781
        },
        "id": "ZwUorfBjGVJl",
        "outputId": "184b4d2e-2018-4f91-ece3-eb731109b35c"
      },
      "outputs": [
        {
          "output_type": "execute_result",
          "data": {
            "text/plain": [
              "'\\n\\n1. What is the difference between interpreted and compiled languages?\\nCompiled languages (like C, C++) translate source code entirely into machine code before execution. The output is a standalone executable.\\n\\nInterpreted languages (like Python, JavaScript) translate code on the fly, at runtime, line by line, via an interpreter.\\n\\nKey differences: compilation time, performance, portability, error reporting, and debugging workflows.\\n\\n2. What is exception handling in Python?\\nA mechanism to catch and respond to errors at runtime using try, except, else, and finally blocks, preventing crashes and enabling graceful failures.\\n\\n3. What is the purpose of the finally block in exception handling?\\nThe finally block always runs after try/except, regardless of errors. It\\'s used for cleanup tasks (e.g., closing files or releasing resources).\\n\\n4. What is logging in Python?\\nLogging is a standardized way to record runtime events (e.g., info, warnings, errors) using Python’s built-in logging module, replacing ad-hoc print() statements for better control and diagnostics.\\n\\n5. What is the significance of the __del__ method in Python?\\n__del__ is a destructor called when an object is about to be garbage-collected. It allows cleanup of external resources, though its use is discouraged due to unpredictability in timing.\\n\\n6. What is the difference between import and from ... import in Python?\\nimport module imports the module as a namespace; functions/objects accessed with module.name.\\n\\nfrom module import name brings specific names into the current namespace, allowing direct usage without the module prefix.\\n\\n7. How can you handle multiple exceptions in Python?\\nUse multiple except blocks or tuple syntax:\\n\\npython\\nCopy\\nEdit\\ntry:\\n    ...\\nexcept (TypeError, ValueError) as e:\\n    ...\\nexcept KeyError:\\n    ...\\n8. What is the purpose of the with statement when handling files in Python?\\nThe with statement ensures that resources (like file handles) are automatically cleaned up and closed when the block ends, even if exceptions occur.\\n\\n9. What is the difference between multithreading and multiprocessing?\\nMultithreading uses threads within the same process; threads share memory. Python’s GIL limits true parallel CPU-bound execution.\\n\\nMultiprocessing uses multiple processes with separate memory, allowing true parallelism across CPU cores without GIL restrictions.\\n\\n10. What are the advantages of using logging in a program?\\nAdjust log verbosity (DEBUG, INFO, WARNING, ERROR, CRITICAL)\\n\\nDirect output to different destinations (console, file, remote server)\\n\\nAdd contextual information (timestamps, module names)\\n\\nEasier debugging, auditing, and monitoring\\n\\n11. What is memory management in Python?\\nA system to allocate and deallocate memory for objects automatically, featuring:\\n\\nAutomatic garbage collection\\n\\nReference counting\\n\\nAn internal heap managed by Python’s allocator\\n\\n12. What are the basic steps involved in exception handling in Python?\\nWrap risky code in try.\\n\\nSpecify handlers in except.\\n\\nOptionally use else for code when no exceptions occurred.\\n\\nUse finally for guaranteed cleanup.\\n\\n13. Why is memory management important in Python?\\nIt ensures efficient use of limited memory, prevents memory leaks, supports performance, and keeps applications stable under varying workloads.\\n\\n14. What is the role of try and except in exception handling?\\ntry: encloses code that might raise an exception.\\n\\nexcept: catches and handles exceptions raised within the try block.\\n\\n15. How does Python\\'s garbage collection system work?\\nPython primarily uses reference counting—each object tracks how many references point to it. When the count drops to zero, the object is collected. A cyclic garbage collector periodically finds and frees groups of objects that reference each other but are no longer accessible externally.\\n\\n16. What is the purpose of the else block in exception handling?\\nThe else block runs only if no exceptions are raised in the try block. It’s used to separate the normal flow from cleanup/error-handling logic.\\n\\n17. What are the common logging levels in Python?\\nFrom lowest to highest severity:\\n\\nDEBUG\\n\\nINFO\\n\\nWARNING\\n\\nERROR\\n\\nCRITICAL\\n\\n18. What is the difference between os.fork() and multiprocessing in Python?\\nos.fork() (Unix-only) clones the current process into the child.\\n\\nmultiprocessing is a cross-platform library that spawns new processes, handling data sharing and IPC more safely and portably.\\n\\n19. What is the importance of closing a file in Python?\\nClosing files flushes data to disk and releases system resources (file descriptors). Without closing, you risk data loss or hitting OS limits on open files.\\n\\n20. What is the difference between file.read() and file.readline() in Python?\\nfile.read(): reads the entire remaining file as a single string (can load large files into memory).\\n\\nfile.readline(): reads one line at a time and stops at the newline, useful for line-by-line processing.\\n\\n21. What is the logging module in Python used for?\\nIt provides a flexible, configurable framework to write logs with different levels, format them, and direct them to various outputs (console, files, email, etc.).\\n\\n22. What is the os module in Python used for in file handling?\\nThe os module provides functions for interacting with the operating system, such as:\\n\\nDirectory operations (os.listdir, os.mkdir)\\n\\nPath handling (os.path, os.rename, os.remove)\\n\\nLow-level file descriptors (os.open, os.read, os.write)\\n\\n23. What are the challenges associated with memory management in Python?\\nHandling reference cycles that reference counting alone can’t free\\n\\nManaging memory fragmentation\\n\\nPredicting when garbage collection runs\\n\\nControlling memory usage in large applications, especially with long-lived objects\\n\\n24. How do you raise an exception manually in Python?\\nUse the raise keyword:\\n\\npython\\nCopy\\nEdit\\nraise ValueError(\"Invalid input\")\\nYou can also re-raise an exception:\\n\\npython\\nCopy\\nEdit\\nexcept Exception as e:\\n    raise\\n25. Why is it important to use multithreading in certain applications?\\nIdeal for I/O-bound operations (networking, file I/O), where threads can stay active while others wait\\n\\nHelps design responsive GUIs or servers without blocking the main execution\\n\\nEnables concurrency even if CPU-bound work is limited by the GIL\\n\\n'"
            ],
            "application/vnd.google.colaboratory.intrinsic+json": {
              "type": "string"
            }
          },
          "metadata": {},
          "execution_count": 2
        }
      ],
      "source": [
        "'''\n",
        "\n",
        "1. What is the difference between interpreted and compiled languages?\n",
        "Compiled languages (like C, C++) translate source code entirely into machine code before execution. The output is a standalone executable.\n",
        "\n",
        "Interpreted languages (like Python, JavaScript) translate code on the fly, at runtime, line by line, via an interpreter.\n",
        "\n",
        "Key differences: compilation time, performance, portability, error reporting, and debugging workflows.\n",
        "\n",
        "2. What is exception handling in Python?\n",
        "A mechanism to catch and respond to errors at runtime using try, except, else, and finally blocks, preventing crashes and enabling graceful failures.\n",
        "\n",
        "3. What is the purpose of the finally block in exception handling?\n",
        "The finally block always runs after try/except, regardless of errors. It's used for cleanup tasks (e.g., closing files or releasing resources).\n",
        "\n",
        "4. What is logging in Python?\n",
        "Logging is a standardized way to record runtime events (e.g., info, warnings, errors) using Python’s built-in logging module, replacing ad-hoc print() statements for better control and diagnostics.\n",
        "\n",
        "5. What is the significance of the __del__ method in Python?\n",
        "__del__ is a destructor called when an object is about to be garbage-collected. It allows cleanup of external resources, though its use is discouraged due to unpredictability in timing.\n",
        "\n",
        "6. What is the difference between import and from ... import in Python?\n",
        "import module imports the module as a namespace; functions/objects accessed with module.name.\n",
        "\n",
        "from module import name brings specific names into the current namespace, allowing direct usage without the module prefix.\n",
        "\n",
        "7. How can you handle multiple exceptions in Python?\n",
        "Use multiple except blocks or tuple syntax:\n",
        "\n",
        "python\n",
        "Copy\n",
        "Edit\n",
        "try:\n",
        "    ...\n",
        "except (TypeError, ValueError) as e:\n",
        "    ...\n",
        "except KeyError:\n",
        "    ...\n",
        "8. What is the purpose of the with statement when handling files in Python?\n",
        "The with statement ensures that resources (like file handles) are automatically cleaned up and closed when the block ends, even if exceptions occur.\n",
        "\n",
        "9. What is the difference between multithreading and multiprocessing?\n",
        "Multithreading uses threads within the same process; threads share memory. Python’s GIL limits true parallel CPU-bound execution.\n",
        "\n",
        "Multiprocessing uses multiple processes with separate memory, allowing true parallelism across CPU cores without GIL restrictions.\n",
        "\n",
        "10. What are the advantages of using logging in a program?\n",
        "Adjust log verbosity (DEBUG, INFO, WARNING, ERROR, CRITICAL)\n",
        "\n",
        "Direct output to different destinations (console, file, remote server)\n",
        "\n",
        "Add contextual information (timestamps, module names)\n",
        "\n",
        "Easier debugging, auditing, and monitoring\n",
        "\n",
        "11. What is memory management in Python?\n",
        "A system to allocate and deallocate memory for objects automatically, featuring:\n",
        "\n",
        "Automatic garbage collection\n",
        "\n",
        "Reference counting\n",
        "\n",
        "An internal heap managed by Python’s allocator\n",
        "\n",
        "12. What are the basic steps involved in exception handling in Python?\n",
        "Wrap risky code in try.\n",
        "\n",
        "Specify handlers in except.\n",
        "\n",
        "Optionally use else for code when no exceptions occurred.\n",
        "\n",
        "Use finally for guaranteed cleanup.\n",
        "\n",
        "13. Why is memory management important in Python?\n",
        "It ensures efficient use of limited memory, prevents memory leaks, supports performance, and keeps applications stable under varying workloads.\n",
        "\n",
        "14. What is the role of try and except in exception handling?\n",
        "try: encloses code that might raise an exception.\n",
        "\n",
        "except: catches and handles exceptions raised within the try block.\n",
        "\n",
        "15. How does Python's garbage collection system work?\n",
        "Python primarily uses reference counting—each object tracks how many references point to it. When the count drops to zero, the object is collected. A cyclic garbage collector periodically finds and frees groups of objects that reference each other but are no longer accessible externally.\n",
        "\n",
        "16. What is the purpose of the else block in exception handling?\n",
        "The else block runs only if no exceptions are raised in the try block. It’s used to separate the normal flow from cleanup/error-handling logic.\n",
        "\n",
        "17. What are the common logging levels in Python?\n",
        "From lowest to highest severity:\n",
        "\n",
        "DEBUG\n",
        "\n",
        "INFO\n",
        "\n",
        "WARNING\n",
        "\n",
        "ERROR\n",
        "\n",
        "CRITICAL\n",
        "\n",
        "18. What is the difference between os.fork() and multiprocessing in Python?\n",
        "os.fork() (Unix-only) clones the current process into the child.\n",
        "\n",
        "multiprocessing is a cross-platform library that spawns new processes, handling data sharing and IPC more safely and portably.\n",
        "\n",
        "19. What is the importance of closing a file in Python?\n",
        "Closing files flushes data to disk and releases system resources (file descriptors). Without closing, you risk data loss or hitting OS limits on open files.\n",
        "\n",
        "20. What is the difference between file.read() and file.readline() in Python?\n",
        "file.read(): reads the entire remaining file as a single string (can load large files into memory).\n",
        "\n",
        "file.readline(): reads one line at a time and stops at the newline, useful for line-by-line processing.\n",
        "\n",
        "21. What is the logging module in Python used for?\n",
        "It provides a flexible, configurable framework to write logs with different levels, format them, and direct them to various outputs (console, files, email, etc.).\n",
        "\n",
        "22. What is the os module in Python used for in file handling?\n",
        "The os module provides functions for interacting with the operating system, such as:\n",
        "\n",
        "Directory operations (os.listdir, os.mkdir)\n",
        "\n",
        "Path handling (os.path, os.rename, os.remove)\n",
        "\n",
        "Low-level file descriptors (os.open, os.read, os.write)\n",
        "\n",
        "23. What are the challenges associated with memory management in Python?\n",
        "Handling reference cycles that reference counting alone can’t free\n",
        "\n",
        "Managing memory fragmentation\n",
        "\n",
        "Predicting when garbage collection runs\n",
        "\n",
        "Controlling memory usage in large applications, especially with long-lived objects\n",
        "\n",
        "24. How do you raise an exception manually in Python?\n",
        "Use the raise keyword:\n",
        "\n",
        "python\n",
        "Copy\n",
        "Edit\n",
        "raise ValueError(\"Invalid input\")\n",
        "You can also re-raise an exception:\n",
        "\n",
        "python\n",
        "Copy\n",
        "Edit\n",
        "except Exception as e:\n",
        "    raise\n",
        "25. Why is it important to use multithreading in certain applications?\n",
        "Ideal for I/O-bound operations (networking, file I/O), where threads can stay active while others wait\n",
        "\n",
        "Helps design responsive GUIs or servers without blocking the main execution\n",
        "\n",
        "Enables concurrency even if CPU-bound work is limited by the GIL\n",
        "\n",
        "'''\n"
      ]
    },
    {
      "cell_type": "code",
      "source": [
        "#1  How can you open a file for writing in Python and write a string to it\n",
        "\n",
        "with open('output.txt', 'w', encoding='utf-8') as f:\n",
        "    f.write(\"Hello, world!\\n\")"
      ],
      "metadata": {
        "id": "XPixuY9oGcQi"
      },
      "execution_count": 5,
      "outputs": []
    },
    {
      "cell_type": "code",
      "source": [
        "#2  Write a Python program to read the contents of a file and print each line\n",
        "\n",
        "with open('input.txt', 'r', encoding='utf-8') as f:\n",
        "    for line in f:\n",
        "        print(line, end='')"
      ],
      "metadata": {
        "id": "Ar0G_I42HfLa"
      },
      "execution_count": 7,
      "outputs": []
    },
    {
      "cell_type": "code",
      "source": [
        "#3  How would you handle a case where the file doesn't exist while trying to open it for reading\n",
        "try:\n",
        "    with open('missing.txt', 'r') as f:\n",
        "        data = f.read()\n",
        "except FileNotFoundError:\n",
        "    print(\"The file does not exist.\")\n"
      ],
      "metadata": {
        "colab": {
          "base_uri": "https://localhost:8080/"
        },
        "id": "4wrPI7t_HrRj",
        "outputId": "28fd957b-d747-4c6c-c305-d3ee92d391e6"
      },
      "execution_count": 8,
      "outputs": [
        {
          "output_type": "stream",
          "name": "stdout",
          "text": [
            "The file does not exist.\n"
          ]
        }
      ]
    },
    {
      "cell_type": "code",
      "source": [
        "#4  Write a Python script that reads from one file and writes its content to another file\n",
        "with open('source.txt', 'r') as src, open('dest.txt', 'w') as dst:\n",
        "    for line in src:\n",
        "        dst.write(line)\n"
      ],
      "metadata": {
        "id": "w1DAMmkTISM5"
      },
      "execution_count": 10,
      "outputs": []
    },
    {
      "cell_type": "code",
      "source": [
        "#5 How would you catch and handle division by zero error in Python\n",
        "\n",
        "try:\n",
        "    result = 10 / 0\n",
        "except ZeroDivisionError:\n",
        "    print(\"Cannot divide by zero.\")\n"
      ],
      "metadata": {
        "colab": {
          "base_uri": "https://localhost:8080/"
        },
        "id": "ErPew7SRI1rJ",
        "outputId": "ee5760cc-d9cf-4b70-e8f4-5966fb1da64c"
      },
      "execution_count": 14,
      "outputs": [
        {
          "output_type": "stream",
          "name": "stdout",
          "text": [
            "Cannot divide by zero.\n"
          ]
        }
      ]
    },
    {
      "cell_type": "code",
      "source": [
        "#6  Write a Python program that logs an error message to a log file when a division by zero exception occurs\n",
        "\n",
        "import logging\n",
        "\n",
        "logging.basicConfig(\n",
        "    filename='error.log',\n",
        "    level=logging.ERROR,\n",
        "    format='%(asctime)s - %(levelname)s - %(message)s'\n",
        ")\n",
        "\n",
        "try:\n",
        "    result = 10 / 0\n",
        "except ZeroDivisionError:\n",
        "    logging.error(\"Division by zero occurred\", exc_info=True)\n"
      ],
      "metadata": {
        "colab": {
          "base_uri": "https://localhost:8080/"
        },
        "id": "SDtWSGkQJA3S",
        "outputId": "2bdb9694-2664-42c6-fef5-188f3db52267"
      },
      "execution_count": 17,
      "outputs": [
        {
          "output_type": "stream",
          "name": "stderr",
          "text": [
            "ERROR:root:Division by zero occurred\n",
            "Traceback (most recent call last):\n",
            "  File \"/tmp/ipython-input-17-1127879466.py\", line 12, in <cell line: 0>\n",
            "    result = 10 / 0\n",
            "             ~~~^~~\n",
            "ZeroDivisionError: division by zero\n"
          ]
        }
      ]
    },
    {
      "cell_type": "code",
      "source": [
        "#7  How do you log information at different levels (INFO, ERROR, WARNING) in Python using the logging module\n",
        "\n",
        "\n",
        "import logging\n",
        "\n",
        "logging.basicConfig(level=logging.DEBUG,\n",
        "                    format='%(asctime)s - %(levelname)s - %(message)s')\n",
        "\n",
        "logging.info(\"This is an info message\")\n",
        "logging.warning(\"This is a warning message\")\n",
        "logging.error(\"This is an error message\")"
      ],
      "metadata": {
        "colab": {
          "base_uri": "https://localhost:8080/"
        },
        "id": "YZkf-w0EJJwJ",
        "outputId": "2a6b46f9-b03e-441c-89a1-fd351d258969"
      },
      "execution_count": 18,
      "outputs": [
        {
          "output_type": "stream",
          "name": "stderr",
          "text": [
            "WARNING:root:This is a warning message\n",
            "ERROR:root:This is an error message\n"
          ]
        }
      ]
    },
    {
      "cell_type": "code",
      "source": [
        "#8  Write a program to handle a file opening error using exception handling\n",
        "try:\n",
        "    with open('data.txt', 'r') as f:\n",
        "        content = f.read()\n",
        "except (FileNotFoundError, PermissionError) as e:\n",
        "    print(f\"Error opening file: {e}\")\n"
      ],
      "metadata": {
        "id": "nIFZQpsHJmad"
      },
      "execution_count": null,
      "outputs": []
    },
    {
      "cell_type": "code",
      "source": [
        "#9  How can you read a file line by line and store its content in a list in Python\n",
        "\n",
        "lines = []\n",
        "with open('input.txt', 'r') as f:\n",
        "    for line in f:\n",
        "        lines.append(line.rstrip('\\n'))"
      ],
      "metadata": {
        "id": "cENKyrY2JbK6"
      },
      "execution_count": 20,
      "outputs": []
    },
    {
      "cell_type": "code",
      "source": [
        "#10 How can you append data to an existing file in Python\n",
        "\n",
        "with open('log.txt', 'a') as f:\n",
        "    f.write(\"New log entry\\n\")"
      ],
      "metadata": {
        "id": "RctUmz3uJwsO"
      },
      "execution_count": null,
      "outputs": []
    },
    {
      "cell_type": "code",
      "source": [
        "#11 Write a Python program that uses a try-except block to handle an error when attempting to access a  dictionary key that doesn't exist\n",
        "\n",
        "data = {'a': 1}\n",
        "try:\n",
        "    print(data['b'])\n",
        "except KeyError:\n",
        "    print(\"Key 'b' not found.\")"
      ],
      "metadata": {
        "id": "enTKml7LJ8Rn"
      },
      "execution_count": null,
      "outputs": []
    },
    {
      "cell_type": "code",
      "source": [
        "#12  Write a program that demonstrates using multiple except blocks to handle different types of exceptions\n",
        "\n",
        "try:\n",
        "    x = int(\"abc\")\n",
        "    y = 1 / 0\n",
        "except ValueError:\n",
        "    print(\"Conversion error occurred\")\n",
        "except ZeroDivisionError:\n",
        "    print(\"Division by zero occurred\")\n",
        "except Exception as e:\n",
        "    print(\"Some other error:\", e)"
      ],
      "metadata": {
        "id": "ik598H0JKOat"
      },
      "execution_count": 21,
      "outputs": []
    },
    {
      "cell_type": "code",
      "source": [
        "#13 How would you check if a file exists before attempting to read it in Python\n",
        "\n",
        "import os\n",
        "\n",
        "path = 'input.txt'\n",
        "if os.path.isfile(path):\n",
        "    with open(path) as f:\n",
        "        print(f.read())\n",
        "else:\n",
        "    print(\"File does not exist.\")"
      ],
      "metadata": {
        "id": "p1mBoxX7Kc_B"
      },
      "execution_count": null,
      "outputs": []
    },
    {
      "cell_type": "code",
      "source": [
        "#14  Write a program that uses the logging module to log both informational and erro messages\n",
        "\n",
        "import logging\n",
        "\n",
        "logging.basicConfig(\n",
        "    filename='app.log',\n",
        "    level=logging.INFO,\n",
        "    format='%(asctime)s - %(levelname)s - %(message)s'\n",
        ")\n",
        "\n",
        "logging.info(\"Program started\")\n",
        "try:\n",
        "    1 / 0\n",
        "except Exception:\n",
        "    logging.error(\"An error occurred\", exc_info=True)"
      ],
      "metadata": {
        "id": "YeAqh8XDKSRl"
      },
      "execution_count": null,
      "outputs": []
    },
    {
      "cell_type": "code",
      "source": [
        "#15  Write a Python program that prints the content of a file and handles the case when the file is empty\n",
        "\n",
        "import os\n",
        "\n",
        "path = 'file.txt'\n",
        "if os.stat(path).st_size == 0:\n",
        "    print(\"File is empty.\")\n",
        "else:\n",
        "    with open(path) as f:\n",
        "        for line in f:\n",
        "            print(line, end='')"
      ],
      "metadata": {
        "id": "KIBRzvTRLV4p"
      },
      "execution_count": null,
      "outputs": []
    },
    {
      "cell_type": "code",
      "source": [
        "#16 Demonstrate how to use memory profiling to check the memory usage of a small program\n",
        "from memory_profiler import profile\n",
        "\n",
        "@profile\n",
        "def my_func():\n",
        "    a = [i * i for i in range(10000)]\n",
        "    return a\n",
        "\n",
        "if __name__ == '__main__':\n",
        "    my_func()"
      ],
      "metadata": {
        "id": "v5Yx9yjOLbsq"
      },
      "execution_count": null,
      "outputs": []
    },
    {
      "cell_type": "code",
      "source": [
        "#17  Write a Python program to create and write a list of numbers to a file, one number per line\n",
        "numbers = [1, 2, 3, 4, 5]\n",
        "with open('nums.txt', 'w') as f:\n",
        "    for num in numbers:\n",
        "        f.write(f\"{num}\\n\")"
      ],
      "metadata": {
        "id": "CzN5ChZHLxHq"
      },
      "execution_count": null,
      "outputs": []
    },
    {
      "cell_type": "code",
      "source": [
        "#18  How would you implement a basic logging setup that logs to a file with rotation after 1MB\n",
        "\n",
        "import logging\n",
        "from logging.handlers import RotatingFileHandler\n",
        "\n",
        "logger = logging.getLogger('myapp')\n",
        "logger.setLevel(logging.INFO)\n",
        "\n",
        "handler = RotatingFileHandler(\n",
        "    'app.log', maxBytes=1_000_000, backupCount=3\n",
        ")\n",
        "formatter = logging.Formatter('%(asctime)s - %(levelname)s - %(message)s')\n",
        "handler.setFormatter(formatter)\n",
        "logger.addHandler(handler)\n",
        "\n",
        "logger.info(\"App started\")"
      ],
      "metadata": {
        "id": "7tOuBLinL43M"
      },
      "execution_count": null,
      "outputs": []
    },
    {
      "cell_type": "code",
      "source": [
        "#19  Write a program that handles both IndexError and KeyError using a try-except block\n",
        "\n",
        "lst = [1, 2, 3]\n",
        "d = {}\n",
        "try:\n",
        "    print(lst[5])\n",
        "    print(d['missing'])\n",
        "except IndexError:\n",
        "    print(\"Index out of range\")\n",
        "except KeyError:\n",
        "    print(\"Key not found\")"
      ],
      "metadata": {
        "id": "n1GLtTygMABa"
      },
      "execution_count": null,
      "outputs": []
    },
    {
      "cell_type": "code",
      "source": [
        "#20  How would you open a file and read its contents using a context manager in Python\n",
        "\n",
        "with open('input.txt', 'r') as f:\n",
        "    content = f.read()\n",
        "print(content)"
      ],
      "metadata": {
        "id": "czdJnYoTMFpR"
      },
      "execution_count": null,
      "outputs": []
    },
    {
      "cell_type": "code",
      "source": [
        "#21 Write a Python program that reads a file and prints the number of occurrences of a specific word\n",
        "\n",
        "search = 'python'\n",
        "count = 0\n",
        "with open('text.txt', 'r') as f:\n",
        "    for line in f:\n",
        "        count += line.lower().split().count(search)\n",
        "print(f\"'{search}' occurred {count} times\")"
      ],
      "metadata": {
        "id": "vSY8VJpbMNmY"
      },
      "execution_count": null,
      "outputs": []
    },
    {
      "cell_type": "code",
      "source": [
        "#22  How can you check if a file is empty before attempting to read its contents\n",
        "\n",
        "import os\n",
        "\n",
        "if os.stat('myfile.txt').st_size == 0:\n",
        "    print(\"Empty file\")\n",
        "else:\n",
        "    with open('myfile.txt') as f:\n",
        "        print(f.read())"
      ],
      "metadata": {
        "id": "JauyUk6AMc_I"
      },
      "execution_count": null,
      "outputs": []
    },
    {
      "cell_type": "code",
      "source": [
        "#23  Write a Python program that writes to a log file when an error occurs during file handling.\n",
        "\n",
        "import logging\n",
        "\n",
        "logging.basicConfig(\n",
        "    filename='file_errors.log',\n",
        "    level=logging.ERROR,\n",
        "    format='%(asctime)s - %(levelname)s - %(message)s'\n",
        ")\n",
        "\n",
        "try:\n",
        "    with open('somefile.txt', 'r') as f:\n",
        "        data = f.read()\n",
        "except Exception:\n",
        "    logging.error(\"Error during file handling\", exc_info=True)"
      ],
      "metadata": {
        "id": "aV8TlUhVMjrU"
      },
      "execution_count": null,
      "outputs": []
    }
  ]
}