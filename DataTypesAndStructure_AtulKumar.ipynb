{
  "nbformat": 4,
  "nbformat_minor": 0,
  "metadata": {
    "colab": {
      "provenance": []
    },
    "kernelspec": {
      "name": "python3",
      "display_name": "Python 3"
    },
    "language_info": {
      "name": "python"
    }
  },
  "cells": [
    {
      "cell_type": "code",
      "execution_count": 1,
      "metadata": {
        "colab": {
          "base_uri": "https://localhost:8080/",
          "height": 139
        },
        "id": "rro9YCN-uOWu",
        "outputId": "b9fa8eeb-fa32-470d-9f6f-44cb48e44e28"
      },
      "outputs": [
        {
          "output_type": "execute_result",
          "data": {
            "text/plain": [
              "'1. What are data structures, and why are they important?\\nData structures are specialized formats for organizing, processing, and storing data efficiently. They are essential because they enable optimal data management, support complex operations, and improve algorithm performance, contributing to scalable and maintainable code.\\n\\n2. Explain the difference between mutable and immutable data types with examples.\\nMutable data types can be modified after creation, such as lists ([1, 2, 3]). Immutable data types cannot be changed once created, such as tuples ((1, 2, 3)) and strings (\"hello\"). Attempting to modify an immutable object results in an error or the creation of a new object.\\n\\n3. What are the main differences between lists and tuples in Python?\\n\\nMutability: Lists are mutable; tuples are immutable.\\n\\nSyntax: Lists use square brackets ([]); tuples use parentheses (()).\\n\\nPerformance: Tuples are generally faster and more memory-efficient than lists.\\n\\nUse case: Tuples are used when data integrity is important, whereas lists are used for dynamic collections.\\n\\n4. Describe how dictionaries store data.\\nDictionaries store data in key-value pairs using a hash table. Each key is hashed to determine where the value is stored internally, allowing for constant-time (O(1)) access to values based on keys.\\n\\n5. Why might you use a set instead of a list in Python?\\nA set is used when uniqueness of elements is required and order is not important. Sets automatically eliminate duplicate values and offer faster membership testing than lists due to their underlying hash-based implementation.\\n\\n6. What is a string in Python, and how is it different from a list?\\nA string is an immutable sequence of Unicode characters, while a list is a mutable sequence of elements that can be of any data type. Strings do not allow item assignment; lists do.\\n\\n7. How do tuples ensure data integrity in Python?\\nTuples are immutable, meaning their contents cannot be altered after creation. This immutability ensures that the data remains consistent and secure, making tuples suitable for fixed collections or as keys in dictionaries.\\n\\n8. What is a hash table, and how does it relate to dictionaries in Python?\\nA hash table is a data structure that maps keys to values using a hash function. In Python, dictionaries are implemented using hash tables, allowing for efficient key-based data retrieval.\\n\\n9. Can lists contain different data types in Python?\\nYes, Python lists are heterogeneous, meaning they can contain elements of different data types, such as [1, \"text\", True, 3.14].\\n\\n10. Explain why strings are immutable in Python.\\nStrings are immutable for performance and security reasons. Immutability allows strings to be safely shared across the program without the risk of being modified, which also makes them suitable for hashing.\\n\\n11. What advantages do dictionaries offer over lists for certain tasks?\\nDictionaries provide fast lookups by keys (O(1) time complexity), making them ideal for associative data storage, such as mapping user IDs to profiles. Lists require linear search (O(n)) for such lookups.\\n\\n12. How do sets handle duplicate values in Python?\\nSets automatically discard duplicate values. When elements are added to a set, duplicates are ignored, ensuring that each element is unique.\\n\\n13. Describe a scenario where using a tuple would be preferable over a list.\\nTuples are preferable when storing a fixed sequence of elements that should not change, such as coordinates ((x, y)) or dates. Their immutability also allows them to be used as dictionary keys.\\n\\n14. How does the “in” keyword work differently for lists and dictionaries?\\n\\nIn a list, in checks for the existence of a value.\\n\\nIn a dictionary, in checks for the presence of a key, not the value.\\n\\n15. Can you modify the elements of a tuple? Explain why or why not.\\nNo, tuples are immutable, meaning their elements cannot be changed after creation. This ensures the integrity and predictability of the data.\\n\\n16. What is a nested dictionary, and give an example of its use case.\\nA nested dictionary is a dictionary where values are themselves dictionaries.\\nExample:\\n\\n\\nemployee = {\\n    \"id\": 101,\\n    \"name\": \"Allen\",\\n    \"contact\": {\\n        \"email\": \"allen@example.com\",\\n        \"phone\": \"123-456-7890\"\\n    }\\n}\\nUse case: Nested dictionaries are useful for representing hierarchical or structured data.\\n\\n17. Describe the time complexity of accessing elements in a dictionary.\\nAccessing elements by key in a dictionary has an average-case time complexity of O(1) due to the underlying hash table structure.\\n\\n18. In what situations are lists preferred over dictionaries?\\nLists are preferred when order matters, when dealing with sequences of items without key-based access, or when iterating over homogeneous data.\\n\\n19. Why are dictionaries considered unordered, and how does that affect data retrieval?\\nHistorically, dictionaries did not maintain insertion order. Since Python 3.7, they preserve insertion order by implementation, though conceptually they remain unordered. This affects retrieval when relying on consistent order, as earlier Python versions did not guarantee it.\\n\\n20. Explain the difference between a list and a dictionary in terms of data retrieval.\\n\\nList: Data is accessed by integer indices; searching for specific values requires iteration.\\n\\nDictionary: Data is accessed via unique keys, enabling faster, direct retrieval without iteration.\\n\\n'"
            ],
            "application/vnd.google.colaboratory.intrinsic+json": {
              "type": "string"
            }
          },
          "metadata": {},
          "execution_count": 1
        }
      ],
      "source": [
        "'''1. What are data structures, and why are they important?\n",
        "Data structures are specialized formats for organizing, processing, and storing data efficiently. They are essential because they enable optimal data management, support complex operations, and improve algorithm performance, contributing to scalable and maintainable code.\n",
        "\n",
        "2. Explain the difference between mutable and immutable data types with examples.\n",
        "Mutable data types can be modified after creation, such as lists ([1, 2, 3]). Immutable data types cannot be changed once created, such as tuples ((1, 2, 3)) and strings (\"hello\"). Attempting to modify an immutable object results in an error or the creation of a new object.\n",
        "\n",
        "3. What are the main differences between lists and tuples in Python?\n",
        "\n",
        "Mutability: Lists are mutable; tuples are immutable.\n",
        "\n",
        "Syntax: Lists use square brackets ([]); tuples use parentheses (()).\n",
        "\n",
        "Performance: Tuples are generally faster and more memory-efficient than lists.\n",
        "\n",
        "Use case: Tuples are used when data integrity is important, whereas lists are used for dynamic collections.\n",
        "\n",
        "4. Describe how dictionaries store data.\n",
        "Dictionaries store data in key-value pairs using a hash table. Each key is hashed to determine where the value is stored internally, allowing for constant-time (O(1)) access to values based on keys.\n",
        "\n",
        "5. Why might you use a set instead of a list in Python?\n",
        "A set is used when uniqueness of elements is required and order is not important. Sets automatically eliminate duplicate values and offer faster membership testing than lists due to their underlying hash-based implementation.\n",
        "\n",
        "6. What is a string in Python, and how is it different from a list?\n",
        "A string is an immutable sequence of Unicode characters, while a list is a mutable sequence of elements that can be of any data type. Strings do not allow item assignment; lists do.\n",
        "\n",
        "7. How do tuples ensure data integrity in Python?\n",
        "Tuples are immutable, meaning their contents cannot be altered after creation. This immutability ensures that the data remains consistent and secure, making tuples suitable for fixed collections or as keys in dictionaries.\n",
        "\n",
        "8. What is a hash table, and how does it relate to dictionaries in Python?\n",
        "A hash table is a data structure that maps keys to values using a hash function. In Python, dictionaries are implemented using hash tables, allowing for efficient key-based data retrieval.\n",
        "\n",
        "9. Can lists contain different data types in Python?\n",
        "Yes, Python lists are heterogeneous, meaning they can contain elements of different data types, such as [1, \"text\", True, 3.14].\n",
        "\n",
        "10. Explain why strings are immutable in Python.\n",
        "Strings are immutable for performance and security reasons. Immutability allows strings to be safely shared across the program without the risk of being modified, which also makes them suitable for hashing.\n",
        "\n",
        "11. What advantages do dictionaries offer over lists for certain tasks?\n",
        "Dictionaries provide fast lookups by keys (O(1) time complexity), making them ideal for associative data storage, such as mapping user IDs to profiles. Lists require linear search (O(n)) for such lookups.\n",
        "\n",
        "12. How do sets handle duplicate values in Python?\n",
        "Sets automatically discard duplicate values. When elements are added to a set, duplicates are ignored, ensuring that each element is unique.\n",
        "\n",
        "13. Describe a scenario where using a tuple would be preferable over a list.\n",
        "Tuples are preferable when storing a fixed sequence of elements that should not change, such as coordinates ((x, y)) or dates. Their immutability also allows them to be used as dictionary keys.\n",
        "\n",
        "14. How does the “in” keyword work differently for lists and dictionaries?\n",
        "\n",
        "In a list, in checks for the existence of a value.\n",
        "\n",
        "In a dictionary, in checks for the presence of a key, not the value.\n",
        "\n",
        "15. Can you modify the elements of a tuple? Explain why or why not.\n",
        "No, tuples are immutable, meaning their elements cannot be changed after creation. This ensures the integrity and predictability of the data.\n",
        "\n",
        "16. What is a nested dictionary, and give an example of its use case.\n",
        "A nested dictionary is a dictionary where values are themselves dictionaries.\n",
        "Example:\n",
        "\n",
        "\n",
        "employee = {\n",
        "    \"id\": 101,\n",
        "    \"name\": \"Allen\",\n",
        "    \"contact\": {\n",
        "        \"email\": \"allen@example.com\",\n",
        "        \"phone\": \"123-456-7890\"\n",
        "    }\n",
        "}\n",
        "Use case: Nested dictionaries are useful for representing hierarchical or structured data.\n",
        "\n",
        "17. Describe the time complexity of accessing elements in a dictionary.\n",
        "Accessing elements by key in a dictionary has an average-case time complexity of O(1) due to the underlying hash table structure.\n",
        "\n",
        "18. In what situations are lists preferred over dictionaries?\n",
        "Lists are preferred when order matters, when dealing with sequences of items without key-based access, or when iterating over homogeneous data.\n",
        "\n",
        "19. Why are dictionaries considered unordered, and how does that affect data retrieval?\n",
        "Historically, dictionaries did not maintain insertion order. Since Python 3.7, they preserve insertion order by implementation, though conceptually they remain unordered. This affects retrieval when relying on consistent order, as earlier Python versions did not guarantee it.\n",
        "\n",
        "20. Explain the difference between a list and a dictionary in terms of data retrieval.\n",
        "\n",
        "List: Data is accessed by integer indices; searching for specific values requires iteration.\n",
        "\n",
        "Dictionary: Data is accessed via unique keys, enabling faster, direct retrieval without iteration.\n",
        "\n",
        "'''"
      ]
    },
    {
      "cell_type": "code",
      "source": [
        "# 1. Create a string with your name and print it\n",
        "my_name = \"Atul Kumar\"\n",
        "print(my_name)"
      ],
      "metadata": {
        "colab": {
          "base_uri": "https://localhost:8080/"
        },
        "id": "6tAMjPx4ujif",
        "outputId": "d3a1a9e5-6b38-4978-b400-d102aedcecb8"
      },
      "execution_count": 4,
      "outputs": [
        {
          "output_type": "stream",
          "name": "stdout",
          "text": [
            "Atul Kumar\n"
          ]
        }
      ]
    },
    {
      "cell_type": "code",
      "source": [
        "# 2. Find the length of the string \"Hello World\"\n",
        "length = len(\"Hello World\")\n",
        "print(length)"
      ],
      "metadata": {
        "colab": {
          "base_uri": "https://localhost:8080/"
        },
        "id": "Gnm6Dws3vO1W",
        "outputId": "9f1f6c91-9568-44b3-9452-00e81ad25dd9"
      },
      "execution_count": 5,
      "outputs": [
        {
          "metadata": {
            "tags": null
          },
          "name": "stdout",
          "output_type": "stream",
          "text": [
            "11\n"
          ]
        }
      ]
    },
    {
      "cell_type": "code",
      "source": [
        "# 3. Slice the first 3 characters from the string \"Python Programming\"\n",
        "sliced = \"Python Programming\"[:3]\n",
        "print(sliced)"
      ],
      "metadata": {
        "colab": {
          "base_uri": "https://localhost:8080/"
        },
        "id": "ab4G8RrOvRda",
        "outputId": "49ec2b45-d21e-48fe-ed56-7bfc28006cc6"
      },
      "execution_count": 6,
      "outputs": [
        {
          "output_type": "stream",
          "name": "stdout",
          "text": [
            "Pyt\n"
          ]
        }
      ]
    },
    {
      "cell_type": "code",
      "source": [
        "# 4. Convert the string \"hello\" to uppercase\n",
        "upper_case = \"hello\".upper()\n",
        "print(upper_case)"
      ],
      "metadata": {
        "colab": {
          "base_uri": "https://localhost:8080/"
        },
        "id": "-LPZjDgVvTkF",
        "outputId": "4d18cbe1-fb09-4c6a-dbfb-7999e48e97aa"
      },
      "execution_count": 7,
      "outputs": [
        {
          "output_type": "stream",
          "name": "stdout",
          "text": [
            "HELLO\n"
          ]
        }
      ]
    },
    {
      "cell_type": "code",
      "source": [
        "# 5. Replace the word \"apple\" with \"orange\" in the string \"I like apple\"\n",
        "replaced = \"I like apple\".replace(\"apple\", \"orange\")\n",
        "print(replaced)"
      ],
      "metadata": {
        "colab": {
          "base_uri": "https://localhost:8080/"
        },
        "id": "sVaWbF71vhrb",
        "outputId": "327156ef-1fea-467a-b610-b0dddda9889c"
      },
      "execution_count": 8,
      "outputs": [
        {
          "output_type": "stream",
          "name": "stdout",
          "text": [
            "I like orange\n"
          ]
        }
      ]
    },
    {
      "cell_type": "code",
      "source": [
        "# 6. Create a list with numbers 1 to 5 and print it\n",
        "number_list = [1, 2, 3, 4, 5]\n",
        "print(number_list)"
      ],
      "metadata": {
        "colab": {
          "base_uri": "https://localhost:8080/"
        },
        "id": "4ep0sXUgvj5H",
        "outputId": "65b808e4-7ce8-41ef-aa80-a67ccc602854"
      },
      "execution_count": 9,
      "outputs": [
        {
          "output_type": "stream",
          "name": "stdout",
          "text": [
            "[1, 2, 3, 4, 5]\n"
          ]
        }
      ]
    },
    {
      "cell_type": "code",
      "source": [
        "# 7. Append the number 10 to the list [1, 2, 3, 4]\n",
        "my_list = [1, 2, 3, 4]\n",
        "my_list.append(10)\n",
        "print(my_list)"
      ],
      "metadata": {
        "colab": {
          "base_uri": "https://localhost:8080/"
        },
        "id": "631ZpHnbvmZf",
        "outputId": "81af2b52-a5af-418f-ce04-dde00a921713"
      },
      "execution_count": 10,
      "outputs": [
        {
          "output_type": "stream",
          "name": "stdout",
          "text": [
            "[1, 2, 3, 4, 10]\n"
          ]
        }
      ]
    },
    {
      "cell_type": "code",
      "source": [
        "# 8. Remove the number 3 from the list [1, 2, 3, 4, 5]\n",
        "list_with_3 = [1, 2, 3, 4, 5]\n",
        "list_with_3.remove(3)\n",
        "print(list_with_3)"
      ],
      "metadata": {
        "colab": {
          "base_uri": "https://localhost:8080/"
        },
        "id": "8k9b9HyDvn99",
        "outputId": "b8224f90-f785-4b30-aaf9-7e51053c6d8d"
      },
      "execution_count": 11,
      "outputs": [
        {
          "output_type": "stream",
          "name": "stdout",
          "text": [
            "[1, 2, 4, 5]\n"
          ]
        }
      ]
    },
    {
      "cell_type": "code",
      "source": [
        "# 9. Access the second element in the list ['a', 'b', 'c', 'd']\n",
        "letters = ['a', 'b', 'c', 'd']\n",
        "print(letters[1])"
      ],
      "metadata": {
        "colab": {
          "base_uri": "https://localhost:8080/"
        },
        "id": "kmPikRlqvpQO",
        "outputId": "2377751d-b4fe-4164-82af-18d2de238f27"
      },
      "execution_count": 12,
      "outputs": [
        {
          "output_type": "stream",
          "name": "stdout",
          "text": [
            "b\n"
          ]
        }
      ]
    },
    {
      "cell_type": "code",
      "source": [
        "# 10. Reverse the list [10, 20, 30, 40, 50]\n",
        "reverse_list = [10, 20, 30, 40, 50]\n",
        "reverse_list.reverse()\n",
        "print(reverse_list)"
      ],
      "metadata": {
        "colab": {
          "base_uri": "https://localhost:8080/"
        },
        "id": "C8GHuW93vrVB",
        "outputId": "42f7039a-5b3f-4e06-ddb4-737ce7561872"
      },
      "execution_count": 13,
      "outputs": [
        {
          "output_type": "stream",
          "name": "stdout",
          "text": [
            "[50, 40, 30, 20, 10]\n"
          ]
        }
      ]
    },
    {
      "cell_type": "code",
      "source": [
        "# 11. Create a tuple with the elements 100, 200, 300 and print it\n",
        "my_tuple = (100, 200, 300)\n",
        "print(my_tuple)\n"
      ],
      "metadata": {
        "colab": {
          "base_uri": "https://localhost:8080/"
        },
        "id": "TT0Ebf6rvtQ2",
        "outputId": "44b038ef-1c79-4602-b641-1ea7a3e0cb90"
      },
      "execution_count": 14,
      "outputs": [
        {
          "output_type": "stream",
          "name": "stdout",
          "text": [
            "(100, 200, 300)\n"
          ]
        }
      ]
    },
    {
      "cell_type": "code",
      "source": [
        "# 12. Access the second-to-last element of the tuple\n",
        "colors = ('red', 'green', 'blue', 'yellow')\n",
        "print(colors[-2])"
      ],
      "metadata": {
        "colab": {
          "base_uri": "https://localhost:8080/"
        },
        "id": "btgnrjsDv8Ig",
        "outputId": "c00b1d86-1b75-47fe-b24a-a680c5e5085a"
      },
      "execution_count": 15,
      "outputs": [
        {
          "output_type": "stream",
          "name": "stdout",
          "text": [
            "blue\n"
          ]
        }
      ]
    },
    {
      "cell_type": "code",
      "source": [
        "# 13. Find the minimum number in the tuple (10, 20, 5, 15)\n",
        "nums = (10, 20, 5, 15)\n",
        "print(min(nums))"
      ],
      "metadata": {
        "colab": {
          "base_uri": "https://localhost:8080/"
        },
        "id": "l5d_OBUav-ME",
        "outputId": "149f1427-1b87-47a7-8e3c-d40c607adb64"
      },
      "execution_count": 16,
      "outputs": [
        {
          "output_type": "stream",
          "name": "stdout",
          "text": [
            "5\n"
          ]
        }
      ]
    },
    {
      "cell_type": "code",
      "source": [
        "# 14. Find the index of the element \"cat\"\n",
        "animals = ('dog', 'cat', 'rabbit')\n",
        "print(animals.index(\"cat\"))"
      ],
      "metadata": {
        "colab": {
          "base_uri": "https://localhost:8080/"
        },
        "id": "oMQWSQlBv_6y",
        "outputId": "f06421d6-4d29-45dd-a62e-714efa2cc3b3"
      },
      "execution_count": 17,
      "outputs": [
        {
          "output_type": "stream",
          "name": "stdout",
          "text": [
            "1\n"
          ]
        }
      ]
    },
    {
      "cell_type": "code",
      "source": [
        "# 15. Check if \"kiwi\" is in the tuple\n",
        "fruits = ('apple', 'banana', 'orange')\n",
        "print(\"kiwi\" in fruits)"
      ],
      "metadata": {
        "colab": {
          "base_uri": "https://localhost:8080/"
        },
        "id": "vQYHnGsKwBht",
        "outputId": "ba8338c3-2890-4284-c9ed-8563f3aedca0"
      },
      "execution_count": 18,
      "outputs": [
        {
          "output_type": "stream",
          "name": "stdout",
          "text": [
            "False\n"
          ]
        }
      ]
    },
    {
      "cell_type": "code",
      "source": [
        "# 16. Create a set with the elements 'a', 'b', 'c' and print it\n",
        "my_set = {'a', 'b', 'c'}\n",
        "print(my_set)"
      ],
      "metadata": {
        "colab": {
          "base_uri": "https://localhost:8080/"
        },
        "id": "IwCEzbAbwGZ_",
        "outputId": "4c4a5764-38a2-4528-829e-cca27941d3db"
      },
      "execution_count": 19,
      "outputs": [
        {
          "output_type": "stream",
          "name": "stdout",
          "text": [
            "{'b', 'a', 'c'}\n"
          ]
        }
      ]
    },
    {
      "cell_type": "code",
      "source": [
        "# 17. Clear all elements from the set\n",
        "clear_set = {1, 2, 3, 4, 5}\n",
        "clear_set.clear()\n",
        "print(clear_set)"
      ],
      "metadata": {
        "colab": {
          "base_uri": "https://localhost:8080/"
        },
        "id": "Cmqn0z34wLt1",
        "outputId": "f3ad5d4d-d83c-482d-d022-b0fb3f84cd87"
      },
      "execution_count": 20,
      "outputs": [
        {
          "output_type": "stream",
          "name": "stdout",
          "text": [
            "set()\n"
          ]
        }
      ]
    },
    {
      "cell_type": "code",
      "source": [
        "# 18. Remove the element 4 from the set\n",
        "remove_set = {1, 2, 3, 4}\n",
        "remove_set.remove(4)\n",
        "print(remove_set)"
      ],
      "metadata": {
        "colab": {
          "base_uri": "https://localhost:8080/"
        },
        "id": "EyR7cS1LwNdo",
        "outputId": "b72d7902-9021-472b-8063-598339da72fc"
      },
      "execution_count": 21,
      "outputs": [
        {
          "output_type": "stream",
          "name": "stdout",
          "text": [
            "{1, 2, 3}\n"
          ]
        }
      ]
    },
    {
      "cell_type": "code",
      "source": [
        "# 19. Find the union of two sets\n",
        "set1 = {1, 2, 3}\n",
        "set2 = {3, 4, 5}\n",
        "union_set = set1.union(set2)\n",
        "print(union_set)"
      ],
      "metadata": {
        "colab": {
          "base_uri": "https://localhost:8080/"
        },
        "id": "OQ8PTVUxwaLf",
        "outputId": "f23d7b54-88b1-41e4-8375-26192af41a57"
      },
      "execution_count": 22,
      "outputs": [
        {
          "output_type": "stream",
          "name": "stdout",
          "text": [
            "{1, 2, 3, 4, 5}\n"
          ]
        }
      ]
    },
    {
      "cell_type": "code",
      "source": [
        "# 20. Find the intersection of two sets\n",
        "intersection_set = set1.intersection({2, 3, 4})\n",
        "print(intersection_set)"
      ],
      "metadata": {
        "colab": {
          "base_uri": "https://localhost:8080/"
        },
        "id": "p2ALB4sewbuD",
        "outputId": "2e9b5a50-ca35-409d-c074-7a4a650c5786"
      },
      "execution_count": 23,
      "outputs": [
        {
          "output_type": "stream",
          "name": "stdout",
          "text": [
            "{2, 3}\n"
          ]
        }
      ]
    },
    {
      "cell_type": "code",
      "source": [
        "# 21. Create a dictionary and print it\n",
        "person = {\"name\": \"John\", \"age\": 30, \"city\": \"New York\"}\n",
        "print(person)"
      ],
      "metadata": {
        "colab": {
          "base_uri": "https://localhost:8080/"
        },
        "id": "-3aL8dkyweU9",
        "outputId": "e82e75e8-ccd8-40f1-aa3f-dfd3082fc30a"
      },
      "execution_count": 24,
      "outputs": [
        {
          "output_type": "stream",
          "name": "stdout",
          "text": [
            "{'name': 'John', 'age': 30, 'city': 'New York'}\n"
          ]
        }
      ]
    },
    {
      "cell_type": "code",
      "source": [
        "# 22. Add a new key-value pair\n",
        "person2 = {'name': 'John', 'age': 25}\n",
        "person2['country'] = 'USA'\n",
        "print(person2)"
      ],
      "metadata": {
        "colab": {
          "base_uri": "https://localhost:8080/"
        },
        "id": "jPD112cewf8f",
        "outputId": "0a6091df-4d2a-4c22-a2ad-6301a7344718"
      },
      "execution_count": 25,
      "outputs": [
        {
          "output_type": "stream",
          "name": "stdout",
          "text": [
            "{'name': 'John', 'age': 25, 'country': 'USA'}\n"
          ]
        }
      ]
    },
    {
      "cell_type": "code",
      "source": [
        "# 23. Access the value associated with \"name\"\n",
        "data = {'name': 'Alok', 'age': 30}\n",
        "print(data[\"name\"])"
      ],
      "metadata": {
        "colab": {
          "base_uri": "https://localhost:8080/"
        },
        "id": "858Px9_Gwh-M",
        "outputId": "624769ed-9a0a-472a-f80d-10e8d04cf284"
      },
      "execution_count": 27,
      "outputs": [
        {
          "output_type": "stream",
          "name": "stdout",
          "text": [
            "Alok\n"
          ]
        }
      ]
    },
    {
      "cell_type": "code",
      "source": [
        "# 24. Remove the key \"age\" from the dictionary\n",
        "profile = {'name': 'Bob', 'age': 22, 'city': 'New York'}\n",
        "del profile['age']\n",
        "print(profile)"
      ],
      "metadata": {
        "colab": {
          "base_uri": "https://localhost:8080/"
        },
        "id": "HvkMwVEIwjfE",
        "outputId": "5e81abbd-e657-4482-a800-225a52f05b43"
      },
      "execution_count": 28,
      "outputs": [
        {
          "output_type": "stream",
          "name": "stdout",
          "text": [
            "{'name': 'Bob', 'city': 'New York'}\n"
          ]
        }
      ]
    },
    {
      "cell_type": "code",
      "source": [
        "# 25. Check if \"city\" exists in dictionary\n",
        "city_check = {'name': 'Alice', 'city': 'Paris'}\n",
        "print(\"city\" in city_check)"
      ],
      "metadata": {
        "colab": {
          "base_uri": "https://localhost:8080/"
        },
        "id": "54SbkZyXwoeK",
        "outputId": "08accccc-4ec8-44bf-9234-f235fb1be68f"
      },
      "execution_count": 29,
      "outputs": [
        {
          "output_type": "stream",
          "name": "stdout",
          "text": [
            "True\n"
          ]
        }
      ]
    },
    {
      "cell_type": "code",
      "source": [
        "# 26. Create and print a list, tuple, and dictionary\n",
        "list1 = [1, 2, 3]\n",
        "tuple1 = (4, 5, 6)\n",
        "dict1 = {'a': 1, 'b': 2}\n",
        "print(list1, tuple1, dict1)"
      ],
      "metadata": {
        "colab": {
          "base_uri": "https://localhost:8080/"
        },
        "id": "S_3LMvITwqZw",
        "outputId": "8107d108-9dc0-418b-b0b2-4b0c72fc5831"
      },
      "execution_count": 30,
      "outputs": [
        {
          "output_type": "stream",
          "name": "stdout",
          "text": [
            "[1, 2, 3] (4, 5, 6) {'a': 1, 'b': 2}\n"
          ]
        }
      ]
    },
    {
      "cell_type": "code",
      "source": [
        "# 27. Create a list of 5 random numbers between 1 and 100, sort and print\n",
        "import random\n",
        "rand_nums = random.sample(range(1, 101), 5)\n",
        "rand_nums.sort()\n",
        "print(rand_nums)"
      ],
      "metadata": {
        "colab": {
          "base_uri": "https://localhost:8080/"
        },
        "id": "cliXOSvkwwBZ",
        "outputId": "65a0b8f0-49b8-4559-f3cd-3e1b8d7690a8"
      },
      "execution_count": 31,
      "outputs": [
        {
          "output_type": "stream",
          "name": "stdout",
          "text": [
            "[44, 46, 62, 75, 77]\n"
          ]
        }
      ]
    },
    {
      "cell_type": "code",
      "source": [
        "# 28. Create list with strings and print element at index 3\n",
        "string_list = ['apple', 'banana', 'cherry', 'date', 'elderberry']\n",
        "print(string_list[3])"
      ],
      "metadata": {
        "colab": {
          "base_uri": "https://localhost:8080/"
        },
        "id": "jivPtnAywxen",
        "outputId": "0389509c-95eb-40d4-94a5-2584d829ecb0"
      },
      "execution_count": 32,
      "outputs": [
        {
          "output_type": "stream",
          "name": "stdout",
          "text": [
            "date\n"
          ]
        }
      ]
    },
    {
      "cell_type": "code",
      "source": [
        "# 29. Combine two dictionaries\n",
        "dict_a = {'x': 1, 'y': 2}\n",
        "dict_b = {'z': 3}\n",
        "combined_dict = {**dict_a, **dict_b}\n",
        "print(combined_dict)"
      ],
      "metadata": {
        "colab": {
          "base_uri": "https://localhost:8080/"
        },
        "id": "LGrr6zN_wzH4",
        "outputId": "c51f9d09-de6c-40db-f88e-4b2b7a7dc988"
      },
      "execution_count": 33,
      "outputs": [
        {
          "output_type": "stream",
          "name": "stdout",
          "text": [
            "{'x': 1, 'y': 2, 'z': 3}\n"
          ]
        }
      ]
    },
    {
      "cell_type": "code",
      "source": [
        "# 30. Convert list of strings to a set\n",
        "string_list2 = ['one', 'two', 'three', 'one']\n",
        "string_set = set(string_list2)\n",
        "print(string_set)"
      ],
      "metadata": {
        "id": "a4se1q9Nw0rW"
      },
      "execution_count": null,
      "outputs": []
    }
  ]
}